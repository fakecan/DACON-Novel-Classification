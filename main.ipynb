{
 "cells": [
  {
   "cell_type": "markdown",
   "id": "6f9d2821-7614-4ebe-aa48-b7e1e73a0f72",
   "metadata": {},
   "source": [
    "# DACON 소설 작가 분류 AI 경진대회"
   ]
  },
  {
   "cell_type": "markdown",
   "id": "ed31f7f2-e2ca-44f3-b423-43637677ee33",
   "metadata": {},
   "source": [
    "# ▶▶▶ Library import"
   ]
  },
  {
   "cell_type": "code",
   "execution_count": 1,
   "id": "fcf4465d-2e96-454f-95ca-c6f34a7c241d",
   "metadata": {},
   "outputs": [],
   "source": [
    "# ■■■■■■■■■■■■■■■■ Import library ■■■■■■■■■■■■■■■■\n",
    "import pandas as pd\n",
    "import re\n",
    "import matplotlib.pyplot as plt\n",
    "import numpy as np\n",
    "import seaborn as sns\n",
    "import tensorflow as tf\n",
    "from tensorflow.keras.preprocessing.text import Tokenizer\n",
    "from tensorflow.keras.preprocessing.sequence import pad_sequences\n",
    "import gensim\n",
    "from gensim.models.keyedvectors import KeyedVectors\n",
    "import fasttext\n",
    "# from tensorflow.keras import Sequential\n",
    "# from tensorflow.keras.layers import Dense, Embedding, Dropout, LSTM, Bidirectional, Conv1D, GRU"
   ]
  },
  {
   "cell_type": "markdown",
   "id": "2ab5af31-2353-46e7-9b6b-37a3caeb85a9",
   "metadata": {},
   "source": [
    "# 1. Preprocessing"
   ]
  },
  {
   "cell_type": "markdown",
   "id": "3e9a3f4f-fcfa-4f7b-b292-0fbdf92044c1",
   "metadata": {},
   "source": [
    "## 1-1. Data load"
   ]
  },
  {
   "cell_type": "code",
   "execution_count": 2,
   "id": "79454da1-b473-44a9-9a0e-d687949ed6f4",
   "metadata": {},
   "outputs": [],
   "source": [
    "train = pd.read_csv('data/train.csv', encoding='utf-8')\n",
    "test = pd.read_csv('data/test_x.csv', encoding='utf-8')\n",
    "sample_submission = pd.read_csv('data/sample_submission.csv', encoding='utf-8')"
   ]
  },
  {
   "cell_type": "code",
   "execution_count": 3,
   "id": "8827dcca-59a1-4cd7-a5b5-ee7c84dc1729",
   "metadata": {},
   "outputs": [
    {
     "data": {
      "text/html": [
       "<div>\n",
       "<style scoped>\n",
       "    .dataframe tbody tr th:only-of-type {\n",
       "        vertical-align: middle;\n",
       "    }\n",
       "\n",
       "    .dataframe tbody tr th {\n",
       "        vertical-align: top;\n",
       "    }\n",
       "\n",
       "    .dataframe thead th {\n",
       "        text-align: right;\n",
       "    }\n",
       "</style>\n",
       "<table border=\"1\" class=\"dataframe\">\n",
       "  <thead>\n",
       "    <tr style=\"text-align: right;\">\n",
       "      <th></th>\n",
       "      <th>index</th>\n",
       "      <th>text</th>\n",
       "      <th>author</th>\n",
       "    </tr>\n",
       "  </thead>\n",
       "  <tbody>\n",
       "    <tr>\n",
       "      <th>0</th>\n",
       "      <td>0</td>\n",
       "      <td>He was almost choking. There was so much, so m...</td>\n",
       "      <td>3</td>\n",
       "    </tr>\n",
       "    <tr>\n",
       "      <th>1</th>\n",
       "      <td>1</td>\n",
       "      <td>“Your sister asked for it, I suppose?”</td>\n",
       "      <td>2</td>\n",
       "    </tr>\n",
       "    <tr>\n",
       "      <th>2</th>\n",
       "      <td>2</td>\n",
       "      <td>She was engaged one day as she walked, in per...</td>\n",
       "      <td>1</td>\n",
       "    </tr>\n",
       "    <tr>\n",
       "      <th>3</th>\n",
       "      <td>3</td>\n",
       "      <td>The captain was in the porch, keeping himself ...</td>\n",
       "      <td>4</td>\n",
       "    </tr>\n",
       "    <tr>\n",
       "      <th>4</th>\n",
       "      <td>4</td>\n",
       "      <td>“Have mercy, gentlemen!” odin flung up his han...</td>\n",
       "      <td>3</td>\n",
       "    </tr>\n",
       "    <tr>\n",
       "      <th>...</th>\n",
       "      <td>...</td>\n",
       "      <td>...</td>\n",
       "      <td>...</td>\n",
       "    </tr>\n",
       "    <tr>\n",
       "      <th>54874</th>\n",
       "      <td>54874</td>\n",
       "      <td>“Is that you, Mr. Smith?” odin whispered. “I h...</td>\n",
       "      <td>2</td>\n",
       "    </tr>\n",
       "    <tr>\n",
       "      <th>54875</th>\n",
       "      <td>54875</td>\n",
       "      <td>I told my plan to the captain, and between us ...</td>\n",
       "      <td>4</td>\n",
       "    </tr>\n",
       "    <tr>\n",
       "      <th>54876</th>\n",
       "      <td>54876</td>\n",
       "      <td>\"Your sincere well-wisher, friend, and sister...</td>\n",
       "      <td>1</td>\n",
       "    </tr>\n",
       "    <tr>\n",
       "      <th>54877</th>\n",
       "      <td>54877</td>\n",
       "      <td>“Then you wanted me to lend you money?”</td>\n",
       "      <td>3</td>\n",
       "    </tr>\n",
       "    <tr>\n",
       "      <th>54878</th>\n",
       "      <td>54878</td>\n",
       "      <td>It certainly had not occurred to me before, bu...</td>\n",
       "      <td>0</td>\n",
       "    </tr>\n",
       "  </tbody>\n",
       "</table>\n",
       "<p>54879 rows × 3 columns</p>\n",
       "</div>"
      ],
      "text/plain": [
       "       index                                               text  author\n",
       "0          0  He was almost choking. There was so much, so m...       3\n",
       "1          1             “Your sister asked for it, I suppose?”       2\n",
       "2          2   She was engaged one day as she walked, in per...       1\n",
       "3          3  The captain was in the porch, keeping himself ...       4\n",
       "4          4  “Have mercy, gentlemen!” odin flung up his han...       3\n",
       "...      ...                                                ...     ...\n",
       "54874  54874  “Is that you, Mr. Smith?” odin whispered. “I h...       2\n",
       "54875  54875  I told my plan to the captain, and between us ...       4\n",
       "54876  54876   \"Your sincere well-wisher, friend, and sister...       1\n",
       "54877  54877            “Then you wanted me to lend you money?”       3\n",
       "54878  54878  It certainly had not occurred to me before, bu...       0\n",
       "\n",
       "[54879 rows x 3 columns]"
      ]
     },
     "execution_count": 3,
     "metadata": {},
     "output_type": "execute_result"
    }
   ],
   "source": [
    "train"
   ]
  },
  {
   "cell_type": "code",
   "execution_count": 4,
   "id": "66c11043-0f0a-4258-a54c-888d1334d342",
   "metadata": {},
   "outputs": [
    {
     "data": {
      "text/html": [
       "<div>\n",
       "<style scoped>\n",
       "    .dataframe tbody tr th:only-of-type {\n",
       "        vertical-align: middle;\n",
       "    }\n",
       "\n",
       "    .dataframe tbody tr th {\n",
       "        vertical-align: top;\n",
       "    }\n",
       "\n",
       "    .dataframe thead th {\n",
       "        text-align: right;\n",
       "    }\n",
       "</style>\n",
       "<table border=\"1\" class=\"dataframe\">\n",
       "  <thead>\n",
       "    <tr style=\"text-align: right;\">\n",
       "      <th></th>\n",
       "      <th>index</th>\n",
       "      <th>text</th>\n",
       "    </tr>\n",
       "  </thead>\n",
       "  <tbody>\n",
       "    <tr>\n",
       "      <th>0</th>\n",
       "      <td>0</td>\n",
       "      <td>“Not at all. I think she is one of the most ch...</td>\n",
       "    </tr>\n",
       "    <tr>\n",
       "      <th>1</th>\n",
       "      <td>1</td>\n",
       "      <td>\"No,\" replied he, with sudden consciousness, \"...</td>\n",
       "    </tr>\n",
       "    <tr>\n",
       "      <th>2</th>\n",
       "      <td>2</td>\n",
       "      <td>As the lady had stated her intention of scream...</td>\n",
       "    </tr>\n",
       "    <tr>\n",
       "      <th>3</th>\n",
       "      <td>3</td>\n",
       "      <td>“And then suddenly in the silence I heard a so...</td>\n",
       "    </tr>\n",
       "    <tr>\n",
       "      <th>4</th>\n",
       "      <td>4</td>\n",
       "      <td>His conviction remained unchanged. So far as I...</td>\n",
       "    </tr>\n",
       "    <tr>\n",
       "      <th>...</th>\n",
       "      <td>...</td>\n",
       "      <td>...</td>\n",
       "    </tr>\n",
       "    <tr>\n",
       "      <th>19612</th>\n",
       "      <td>19612</td>\n",
       "      <td>At the end of another day or two, odin growing...</td>\n",
       "    </tr>\n",
       "    <tr>\n",
       "      <th>19613</th>\n",
       "      <td>19613</td>\n",
       "      <td>All afternoon we sat together, mostly in silen...</td>\n",
       "    </tr>\n",
       "    <tr>\n",
       "      <th>19614</th>\n",
       "      <td>19614</td>\n",
       "      <td>odin, having carried his thanks to odin, proc...</td>\n",
       "    </tr>\n",
       "    <tr>\n",
       "      <th>19615</th>\n",
       "      <td>19615</td>\n",
       "      <td>Soon after this, upon odin's leaving the room,...</td>\n",
       "    </tr>\n",
       "    <tr>\n",
       "      <th>19616</th>\n",
       "      <td>19616</td>\n",
       "      <td>And all the worse for the doomed man, that the...</td>\n",
       "    </tr>\n",
       "  </tbody>\n",
       "</table>\n",
       "<p>19617 rows × 2 columns</p>\n",
       "</div>"
      ],
      "text/plain": [
       "       index                                               text\n",
       "0          0  “Not at all. I think she is one of the most ch...\n",
       "1          1  \"No,\" replied he, with sudden consciousness, \"...\n",
       "2          2  As the lady had stated her intention of scream...\n",
       "3          3  “And then suddenly in the silence I heard a so...\n",
       "4          4  His conviction remained unchanged. So far as I...\n",
       "...      ...                                                ...\n",
       "19612  19612  At the end of another day or two, odin growing...\n",
       "19613  19613  All afternoon we sat together, mostly in silen...\n",
       "19614  19614   odin, having carried his thanks to odin, proc...\n",
       "19615  19615  Soon after this, upon odin's leaving the room,...\n",
       "19616  19616  And all the worse for the doomed man, that the...\n",
       "\n",
       "[19617 rows x 2 columns]"
      ]
     },
     "execution_count": 4,
     "metadata": {},
     "output_type": "execute_result"
    }
   ],
   "source": [
    "test"
   ]
  },
  {
   "cell_type": "code",
   "execution_count": 5,
   "id": "2ae85c32-486a-4525-8413-f64f17d1fff2",
   "metadata": {},
   "outputs": [
    {
     "data": {
      "text/html": [
       "<div>\n",
       "<style scoped>\n",
       "    .dataframe tbody tr th:only-of-type {\n",
       "        vertical-align: middle;\n",
       "    }\n",
       "\n",
       "    .dataframe tbody tr th {\n",
       "        vertical-align: top;\n",
       "    }\n",
       "\n",
       "    .dataframe thead th {\n",
       "        text-align: right;\n",
       "    }\n",
       "</style>\n",
       "<table border=\"1\" class=\"dataframe\">\n",
       "  <thead>\n",
       "    <tr style=\"text-align: right;\">\n",
       "      <th></th>\n",
       "      <th>index</th>\n",
       "      <th>0</th>\n",
       "      <th>1</th>\n",
       "      <th>2</th>\n",
       "      <th>3</th>\n",
       "      <th>4</th>\n",
       "    </tr>\n",
       "  </thead>\n",
       "  <tbody>\n",
       "    <tr>\n",
       "      <th>0</th>\n",
       "      <td>0</td>\n",
       "      <td>0</td>\n",
       "      <td>0</td>\n",
       "      <td>0</td>\n",
       "      <td>0</td>\n",
       "      <td>0</td>\n",
       "    </tr>\n",
       "    <tr>\n",
       "      <th>1</th>\n",
       "      <td>1</td>\n",
       "      <td>0</td>\n",
       "      <td>0</td>\n",
       "      <td>0</td>\n",
       "      <td>0</td>\n",
       "      <td>0</td>\n",
       "    </tr>\n",
       "    <tr>\n",
       "      <th>2</th>\n",
       "      <td>2</td>\n",
       "      <td>0</td>\n",
       "      <td>0</td>\n",
       "      <td>0</td>\n",
       "      <td>0</td>\n",
       "      <td>0</td>\n",
       "    </tr>\n",
       "    <tr>\n",
       "      <th>3</th>\n",
       "      <td>3</td>\n",
       "      <td>0</td>\n",
       "      <td>0</td>\n",
       "      <td>0</td>\n",
       "      <td>0</td>\n",
       "      <td>0</td>\n",
       "    </tr>\n",
       "    <tr>\n",
       "      <th>4</th>\n",
       "      <td>4</td>\n",
       "      <td>0</td>\n",
       "      <td>0</td>\n",
       "      <td>0</td>\n",
       "      <td>0</td>\n",
       "      <td>0</td>\n",
       "    </tr>\n",
       "    <tr>\n",
       "      <th>...</th>\n",
       "      <td>...</td>\n",
       "      <td>...</td>\n",
       "      <td>...</td>\n",
       "      <td>...</td>\n",
       "      <td>...</td>\n",
       "      <td>...</td>\n",
       "    </tr>\n",
       "    <tr>\n",
       "      <th>19612</th>\n",
       "      <td>19612</td>\n",
       "      <td>0</td>\n",
       "      <td>0</td>\n",
       "      <td>0</td>\n",
       "      <td>0</td>\n",
       "      <td>0</td>\n",
       "    </tr>\n",
       "    <tr>\n",
       "      <th>19613</th>\n",
       "      <td>19613</td>\n",
       "      <td>0</td>\n",
       "      <td>0</td>\n",
       "      <td>0</td>\n",
       "      <td>0</td>\n",
       "      <td>0</td>\n",
       "    </tr>\n",
       "    <tr>\n",
       "      <th>19614</th>\n",
       "      <td>19614</td>\n",
       "      <td>0</td>\n",
       "      <td>0</td>\n",
       "      <td>0</td>\n",
       "      <td>0</td>\n",
       "      <td>0</td>\n",
       "    </tr>\n",
       "    <tr>\n",
       "      <th>19615</th>\n",
       "      <td>19615</td>\n",
       "      <td>0</td>\n",
       "      <td>0</td>\n",
       "      <td>0</td>\n",
       "      <td>0</td>\n",
       "      <td>0</td>\n",
       "    </tr>\n",
       "    <tr>\n",
       "      <th>19616</th>\n",
       "      <td>19616</td>\n",
       "      <td>0</td>\n",
       "      <td>0</td>\n",
       "      <td>0</td>\n",
       "      <td>0</td>\n",
       "      <td>0</td>\n",
       "    </tr>\n",
       "  </tbody>\n",
       "</table>\n",
       "<p>19617 rows × 6 columns</p>\n",
       "</div>"
      ],
      "text/plain": [
       "       index  0  1  2  3  4\n",
       "0          0  0  0  0  0  0\n",
       "1          1  0  0  0  0  0\n",
       "2          2  0  0  0  0  0\n",
       "3          3  0  0  0  0  0\n",
       "4          4  0  0  0  0  0\n",
       "...      ... .. .. .. .. ..\n",
       "19612  19612  0  0  0  0  0\n",
       "19613  19613  0  0  0  0  0\n",
       "19614  19614  0  0  0  0  0\n",
       "19615  19615  0  0  0  0  0\n",
       "19616  19616  0  0  0  0  0\n",
       "\n",
       "[19617 rows x 6 columns]"
      ]
     },
     "execution_count": 5,
     "metadata": {},
     "output_type": "execute_result"
    }
   ],
   "source": [
    "sample_submission"
   ]
  },
  {
   "cell_type": "markdown",
   "id": "9571d5af-1582-428c-85e8-b9efd5815a54",
   "metadata": {},
   "source": [
    "## 1-2. Stopwords delete and Words alphabet lower"
   ]
  },
  {
   "cell_type": "code",
   "execution_count": 6,
   "id": "0d38ff2b-5e86-42b6-b7e5-77aa00a2d76b",
   "metadata": {},
   "outputs": [],
   "source": [
    "# ■■■■■■■■■■■■■■■■ Stopwords delete & Alphabet lower ■■■■■■■■■■■■■■■■\n",
    "# 부호 제거 함수\n",
    "def alpha_num(text):\n",
    "    return re.sub(r'[^A-Za-z0-9 ]', '', text)\n",
    "\n",
    "# 불용어 제거 함수\n",
    "def remove_stopwords(text):\n",
    "    final_text = []\n",
    "    for i in text.split():\n",
    "        if i.strip().lower() not in stopwords:\n",
    "            final_text.append(i.strip())\n",
    "    return \" \".join(final_text)\n",
    "\n",
    "# 불용어\n",
    "stopwords = [ \"a\", \"about\", \"above\", \"after\", \"again\", \"against\", \"all\", \"am\", \"an\", \"and\", \"any\", \"are\", \"as\", \n",
    "             \"at\", \"be\", \"because\", \"been\", \"before\", \"being\", \"below\", \"between\", \"both\", \"but\", \"by\", \"could\", \n",
    "             \"did\", \"do\", \"does\", \"doing\", \"down\", \"during\", \"each\", \"few\", \"for\", \"from\", \"further\", \"had\", \"has\", \n",
    "             \"have\", \"having\", \"he\", \"he'd\", \"he'll\", \"he's\", \"her\", \"here\", \"here's\", \"hers\", \"herself\", \"him\", \"himself\", \n",
    "             \"his\", \"how\", \"how's\", \"i\", \"i'd\", \"i'll\", \"i'm\", \"i've\", \"if\", \"in\", \"into\", \"is\", \"it\", \"it's\", \"its\", \"itself\", \n",
    "             \"let's\", \"me\", \"more\", \"most\", \"my\", \"myself\", \"nor\", \"of\", \"on\", \"once\", \"only\", \"or\", \"other\", \"ought\", \"our\", \"ours\", \n",
    "             \"ourselves\", \"out\", \"over\", \"own\", \"same\", \"she\", \"she'd\", \"she'll\", \"she's\", \"should\", \"so\", \"some\", \"such\", \"than\", \"that\", \n",
    "             \"that's\", \"the\", \"their\", \"theirs\", \"them\", \"themselves\", \"then\", \"there\", \"there's\", \"these\", \"they\", \"they'd\", \"they'll\", \n",
    "             \"they're\", \"they've\", \"this\", \"those\", \"through\", \"to\", \"too\", \"under\", \"until\", \"up\", \"very\", \"was\", \"we\", \"we'd\", \"we'll\", \n",
    "             \"we're\", \"we've\", \"were\", \"what\", \"what's\", \"when\", \"when's\", \"where\", \"where's\", \"which\", \"while\", \"who\", \"who's\", \"whom\", \n",
    "             \"why\", \"why's\", \"with\", \"would\", \"you\", \"you'd\", \"you'll\", \"you're\", \"you've\", \"your\", \"yours\", \"yourself\", \"yourselves\" ]\n",
    "\n",
    "# LINK: https://countwordsfree.com/stopwords\n",
    "# with open('stop_words_english.txt', 'r', encoding='utf-8') as file:\n",
    "#     stopwords = []\n",
    "#     for line in file.readlines():\n",
    "#         stopwords.append(line.rstrip())\n",
    "\n",
    "# 소문자화 -> 부호 및 불용어 제거 적용\n",
    "train['text'] = train['text'].str.lower()\n",
    "test['text'] = test['text'].str.lower()\n",
    "train['text'] = train['text'].apply(alpha_num).apply(remove_stopwords)\n",
    "test['text'] = test['text'].apply(alpha_num).apply(remove_stopwords)"
   ]
  },
  {
   "cell_type": "code",
   "execution_count": 7,
   "id": "ab630336-d9b4-4e93-9b32-e6513e8db221",
   "metadata": {},
   "outputs": [
    {
     "data": {
      "text/html": [
       "<div>\n",
       "<style scoped>\n",
       "    .dataframe tbody tr th:only-of-type {\n",
       "        vertical-align: middle;\n",
       "    }\n",
       "\n",
       "    .dataframe tbody tr th {\n",
       "        vertical-align: top;\n",
       "    }\n",
       "\n",
       "    .dataframe thead th {\n",
       "        text-align: right;\n",
       "    }\n",
       "</style>\n",
       "<table border=\"1\" class=\"dataframe\">\n",
       "  <thead>\n",
       "    <tr style=\"text-align: right;\">\n",
       "      <th></th>\n",
       "      <th>index</th>\n",
       "      <th>text</th>\n",
       "      <th>author</th>\n",
       "    </tr>\n",
       "  </thead>\n",
       "  <tbody>\n",
       "    <tr>\n",
       "      <th>0</th>\n",
       "      <td>0</td>\n",
       "      <td>almost choking much much wanted say strange ex...</td>\n",
       "      <td>3</td>\n",
       "    </tr>\n",
       "    <tr>\n",
       "      <th>1</th>\n",
       "      <td>1</td>\n",
       "      <td>sister asked suppose</td>\n",
       "      <td>2</td>\n",
       "    </tr>\n",
       "    <tr>\n",
       "      <th>2</th>\n",
       "      <td>2</td>\n",
       "      <td>engaged one day walked perusing janes last let...</td>\n",
       "      <td>1</td>\n",
       "    </tr>\n",
       "    <tr>\n",
       "      <th>3</th>\n",
       "      <td>3</td>\n",
       "      <td>captain porch keeping carefully way treacherou...</td>\n",
       "      <td>4</td>\n",
       "    </tr>\n",
       "    <tr>\n",
       "      <th>4</th>\n",
       "      <td>4</td>\n",
       "      <td>mercy gentlemen odin flung hands dont write an...</td>\n",
       "      <td>3</td>\n",
       "    </tr>\n",
       "    <tr>\n",
       "      <th>...</th>\n",
       "      <td>...</td>\n",
       "      <td>...</td>\n",
       "      <td>...</td>\n",
       "    </tr>\n",
       "    <tr>\n",
       "      <th>54874</th>\n",
       "      <td>54874</td>\n",
       "      <td>mr smith odin whispered hardly dared hope come</td>\n",
       "      <td>2</td>\n",
       "    </tr>\n",
       "    <tr>\n",
       "      <th>54875</th>\n",
       "      <td>54875</td>\n",
       "      <td>told plan captain us settled details accomplis...</td>\n",
       "      <td>4</td>\n",
       "    </tr>\n",
       "    <tr>\n",
       "      <th>54876</th>\n",
       "      <td>54876</td>\n",
       "      <td>sincere wellwisher friend sister lucy odin</td>\n",
       "      <td>1</td>\n",
       "    </tr>\n",
       "    <tr>\n",
       "      <th>54877</th>\n",
       "      <td>54877</td>\n",
       "      <td>wanted lend money</td>\n",
       "      <td>3</td>\n",
       "    </tr>\n",
       "    <tr>\n",
       "      <th>54878</th>\n",
       "      <td>54878</td>\n",
       "      <td>certainly not occurred said yes like</td>\n",
       "      <td>0</td>\n",
       "    </tr>\n",
       "  </tbody>\n",
       "</table>\n",
       "<p>54879 rows × 3 columns</p>\n",
       "</div>"
      ],
      "text/plain": [
       "       index                                               text  author\n",
       "0          0  almost choking much much wanted say strange ex...       3\n",
       "1          1                               sister asked suppose       2\n",
       "2          2  engaged one day walked perusing janes last let...       1\n",
       "3          3  captain porch keeping carefully way treacherou...       4\n",
       "4          4  mercy gentlemen odin flung hands dont write an...       3\n",
       "...      ...                                                ...     ...\n",
       "54874  54874     mr smith odin whispered hardly dared hope come       2\n",
       "54875  54875  told plan captain us settled details accomplis...       4\n",
       "54876  54876         sincere wellwisher friend sister lucy odin       1\n",
       "54877  54877                                  wanted lend money       3\n",
       "54878  54878               certainly not occurred said yes like       0\n",
       "\n",
       "[54879 rows x 3 columns]"
      ]
     },
     "execution_count": 7,
     "metadata": {},
     "output_type": "execute_result"
    }
   ],
   "source": [
    "train"
   ]
  },
  {
   "cell_type": "code",
   "execution_count": 8,
   "id": "a6269581-ed69-445d-85a3-5c9d370ddc84",
   "metadata": {},
   "outputs": [
    {
     "data": {
      "text/html": [
       "<div>\n",
       "<style scoped>\n",
       "    .dataframe tbody tr th:only-of-type {\n",
       "        vertical-align: middle;\n",
       "    }\n",
       "\n",
       "    .dataframe tbody tr th {\n",
       "        vertical-align: top;\n",
       "    }\n",
       "\n",
       "    .dataframe thead th {\n",
       "        text-align: right;\n",
       "    }\n",
       "</style>\n",
       "<table border=\"1\" class=\"dataframe\">\n",
       "  <thead>\n",
       "    <tr style=\"text-align: right;\">\n",
       "      <th></th>\n",
       "      <th>index</th>\n",
       "      <th>text</th>\n",
       "    </tr>\n",
       "  </thead>\n",
       "  <tbody>\n",
       "    <tr>\n",
       "      <th>0</th>\n",
       "      <td>0</td>\n",
       "      <td>not think one charming young ladies ever met m...</td>\n",
       "    </tr>\n",
       "    <tr>\n",
       "      <th>1</th>\n",
       "      <td>1</td>\n",
       "      <td>no replied sudden consciousness not find canno...</td>\n",
       "    </tr>\n",
       "    <tr>\n",
       "      <th>2</th>\n",
       "      <td>2</td>\n",
       "      <td>lady stated intention screaming course screame...</td>\n",
       "    </tr>\n",
       "    <tr>\n",
       "      <th>3</th>\n",
       "      <td>3</td>\n",
       "      <td>suddenly silence heard sound sent heart mouth ...</td>\n",
       "    </tr>\n",
       "    <tr>\n",
       "      <th>4</th>\n",
       "      <td>4</td>\n",
       "      <td>conviction remained unchanged far knowand beli...</td>\n",
       "    </tr>\n",
       "    <tr>\n",
       "      <th>...</th>\n",
       "      <td>...</td>\n",
       "      <td>...</td>\n",
       "    </tr>\n",
       "    <tr>\n",
       "      <th>19612</th>\n",
       "      <td>19612</td>\n",
       "      <td>end another day two odin growing visibly stron...</td>\n",
       "    </tr>\n",
       "    <tr>\n",
       "      <th>19613</th>\n",
       "      <td>19613</td>\n",
       "      <td>afternoon sat together mostly silence watching...</td>\n",
       "    </tr>\n",
       "    <tr>\n",
       "      <th>19614</th>\n",
       "      <td>19614</td>\n",
       "      <td>odin carried thanks odin proceeded happiness l...</td>\n",
       "    </tr>\n",
       "    <tr>\n",
       "      <th>19615</th>\n",
       "      <td>19615</td>\n",
       "      <td>soon upon odins leaving room mama said odin al...</td>\n",
       "    </tr>\n",
       "    <tr>\n",
       "      <th>19616</th>\n",
       "      <td>19616</td>\n",
       "      <td>worse doomed man denouncer wellknown citizen a...</td>\n",
       "    </tr>\n",
       "  </tbody>\n",
       "</table>\n",
       "<p>19617 rows × 2 columns</p>\n",
       "</div>"
      ],
      "text/plain": [
       "       index                                               text\n",
       "0          0  not think one charming young ladies ever met m...\n",
       "1          1  no replied sudden consciousness not find canno...\n",
       "2          2  lady stated intention screaming course screame...\n",
       "3          3  suddenly silence heard sound sent heart mouth ...\n",
       "4          4  conviction remained unchanged far knowand beli...\n",
       "...      ...                                                ...\n",
       "19612  19612  end another day two odin growing visibly stron...\n",
       "19613  19613  afternoon sat together mostly silence watching...\n",
       "19614  19614  odin carried thanks odin proceeded happiness l...\n",
       "19615  19615  soon upon odins leaving room mama said odin al...\n",
       "19616  19616  worse doomed man denouncer wellknown citizen a...\n",
       "\n",
       "[19617 rows x 2 columns]"
      ]
     },
     "execution_count": 8,
     "metadata": {},
     "output_type": "execute_result"
    }
   ],
   "source": [
    "test"
   ]
  },
  {
   "cell_type": "markdown",
   "id": "9ce56929-b102-44b1-8dc8-3fe9efc1503a",
   "metadata": {},
   "source": [
    "## 1-3. Data visualization"
   ]
  },
  {
   "cell_type": "code",
   "execution_count": 9,
   "id": "9560571f-4ac9-4ce5-be99-d6724f5854c8",
   "metadata": {},
   "outputs": [
    {
     "data": {
      "text/plain": [
       "<AxesSubplot:title={'center':'Sentence count by author'}, xlabel='author'>"
      ]
     },
     "execution_count": 9,
     "metadata": {},
     "output_type": "execute_result"
    },
    {
     "data": {
      "image/png": "[encoded data removed]",
      "text/plain": [
       "<Figure size 432x288 with 1 Axes>"
      ]
     },
     "metadata": {
      "needs_background": "light"
     },
     "output_type": "display_data"
    }
   ],
   "source": [
    "# 작가별 문장 수\n",
    "train.groupby(train['author']).size().reset_index(name='counts').plot.bar(x='author', title='Sentence count by author', color='#884422')"
   ]
  },
  {
   "cell_type": "code",
   "execution_count": 10,
   "id": "4277eb39-ce6b-40cd-9681-0aaa3e14f142",
   "metadata": {},
   "outputs": [
    {
     "data": {
      "text/plain": [
       "3    15063\n",
       "0    13235\n",
       "2    11554\n",
       "4     7805\n",
       "1     7222\n",
       "Name: author, dtype: int64"
      ]
     },
     "execution_count": 10,
     "metadata": {},
     "output_type": "execute_result"
    }
   ],
   "source": [
    "train['author'].value_counts()"
   ]
  },
  {
   "cell_type": "code",
   "execution_count": 11,
   "id": "e477a894-439d-4baf-a591-a05889b4b5ae",
   "metadata": {},
   "outputs": [
    {
     "name": "stderr",
     "output_type": "stream",
     "text": [
      "C:\\Users\\GBJ\\anaconda3\\envs\\tf240\\lib\\site-packages\\seaborn\\distributions.py:2557: FutureWarning: `distplot` is a deprecated function and will be removed in a future version. Please adapt your code to use either `displot` (a figure-level function with similar flexibility) or `histplot` (an axes-level function for histograms).\n",
      "  warnings.warn(msg, FutureWarning)\n"
     ]
    },
    {
     "data": {
      "image/png": "[encoded data removed]",
      "text/plain": [
       "<Figure size 432x288 with 1 Axes>"
      ]
     },
     "metadata": {
      "needs_background": "light"
     },
     "output_type": "display_data"
    },
    {
     "name": "stdout",
     "output_type": "stream",
     "text": [
      "가장 긴 문장 내 단어의 수 : 211\n",
      "가장 짧은 문장 내 단어의 수 : 0\n",
      "평균 문장 내 단어의 수 : 20\n"
     ]
    }
   ],
   "source": [
    "# 공백으로 단어 길이를 계산한다.\n",
    "train['sentence'] = train['text'].apply(lambda x : len(x.split()))\n",
    "\n",
    "def plot_sentence_length(data):\n",
    "    mean_seq_len = np.round(data['sentence'].mean()).astype(int)\n",
    "    sns.distplot(tuple(data['sentence']), hist=True, kde=True, label='Sentence length')\n",
    "    plt.axvline(x=mean_seq_len, color='k', linestyle='--', label=f'Sequence length mean:{mean_seq_len}')\n",
    "    plt.title('Sentence length')\n",
    "    plt.legend()\n",
    "    plt.show()\n",
    "    print(f\"가장 긴 문장 내 단어의 수 : {train['sentence'].max()}\")\n",
    "    print(f\"가장 짧은 문장 내 단어의 수 : {train['sentence'].min()}\")\n",
    "    print(f\"평균 문장 내 단어의 수 : {mean_seq_len}\")\n",
    "\n",
    "plot_sentence_length(train)"
   ]
  },
  {
   "cell_type": "markdown",
   "id": "c20db7eb-babd-4dda-be23-77e99cdaf02d",
   "metadata": {},
   "source": [
    "# 2. Vectorization(Tokenization)"
   ]
  },
  {
   "cell_type": "code",
   "execution_count": 12,
   "id": "613fde2e-0d86-4c0f-8a7b-6e1e8c497b77",
   "metadata": {},
   "outputs": [],
   "source": [
    "# ■■■■■■■■■■■■■■■■ Train, test data split(numpy) ■■■■■■■■■■■■■■■■\n",
    "X_train = np.array([x for x in train['text']])\n",
    "X_test = np.array([x for x in test['text']])\n",
    "y_train = np.array([x for x in train['author']])"
   ]
  },
  {
   "cell_type": "code",
   "execution_count": 13,
   "id": "221018fb-f188-44ee-801e-820ce8d79165",
   "metadata": {},
   "outputs": [
    {
     "name": "stdout",
     "output_type": "stream",
     "text": [
      "(54879,)\n",
      "(19617,)\n",
      "(54879,)\n"
     ]
    }
   ],
   "source": [
    "print(X_train.shape)\n",
    "print(X_test.shape)\n",
    "print(y_train.shape)"
   ]
  },
  {
   "cell_type": "code",
   "execution_count": 14,
   "id": "4b5bba0f-d773-4fa5-8939-2e35f6fe10e7",
   "metadata": {},
   "outputs": [
    {
     "data": {
      "text/plain": [
       "array(['almost choking much much wanted say strange exclamations came lips pole gazed fixedly bundle notes hand looked odin evident perplexity',\n",
       "       'sister asked suppose',\n",
       "       'engaged one day walked perusing janes last letter dwelling passages proved jane not written spirits instead surprised mr odin saw looking odin meeting putting away letter immediately forcing smile said',\n",
       "       ..., 'sincere wellwisher friend sister lucy odin',\n",
       "       'wanted lend money', 'certainly not occurred said yes like'],\n",
       "      dtype='<U1433')"
      ]
     },
     "execution_count": 14,
     "metadata": {},
     "output_type": "execute_result"
    }
   ],
   "source": [
    "X_train"
   ]
  },
  {
   "cell_type": "code",
   "execution_count": 15,
   "id": "bb9f600c-2128-48f6-8a97-6b13ea0eefc6",
   "metadata": {},
   "outputs": [
    {
     "data": {
      "text/plain": [
       "array(['not think one charming young ladies ever met might useful work decided genius way witness way preserved agra plan papers father love emotional thing whatever emotional opposed true cold reason place things never marry lest bias judgment',\n",
       "       'no replied sudden consciousness not find cannot ignorant goodness owe alli feel iti express couldbut well know no orator',\n",
       "       'lady stated intention screaming course screamed additional boldness exertion rendered unnecessary hasty knocking door no sooner heard mr odin darted much agility wine bottles began dusting great violence matron sharply demanded',\n",
       "       ...,\n",
       "       'odin carried thanks odin proceeded happiness lucy excess time reached bartletts buildings able assure mrs odin called next day congratulations never seen spirits life',\n",
       "       'soon upon odins leaving room mama said odin alarm subject illness cannot conceal sure odin not well now almost fortnight yet not come nothing real indisposition occasion extraordinary delay else can detain norland',\n",
       "       'worse doomed man denouncer wellknown citizen attached friend father wife one frenzied aspirations populace imitations questionable public virtues antiquity sacrifices selfimmolations peoples altar therefore president said else head quivered shoulders good physician republic deserve better still republic rooting obnoxious family aristocrats doubtless feel sacred glow joy making daughter widow child orphan wild excitement patriotic fervour not touch human sympathy'],\n",
       "      dtype='<U1426')"
      ]
     },
     "execution_count": 15,
     "metadata": {},
     "output_type": "execute_result"
    }
   ],
   "source": [
    "X_test"
   ]
  },
  {
   "cell_type": "code",
   "execution_count": 16,
   "id": "1e4d1753-ebd0-4bcd-91de-76e5b00decec",
   "metadata": {},
   "outputs": [
    {
     "data": {
      "text/plain": [
       "array([3, 2, 1, ..., 1, 3, 0])"
      ]
     },
     "execution_count": 16,
     "metadata": {},
     "output_type": "execute_result"
    }
   ],
   "source": [
    "y_train"
   ]
  },
  {
   "cell_type": "code",
   "execution_count": 17,
   "id": "32b2b624-5310-4bee-930b-91b9a251052e",
   "metadata": {},
   "outputs": [],
   "source": [
    "# # ■■■■■■■■■■■■■■■■ Embedding ■■■■■■■■■■■■■■■■\n",
    "freq_size = 2000\n",
    "padding_type = 'post'"
   ]
  },
  {
   "cell_type": "code",
   "execution_count": 18,
   "id": "2a4688dc-c338-45a5-bfe8-c868a95a2353",
   "metadata": {},
   "outputs": [],
   "source": [
    "# Tokenizer는 데이터에 나오는 모든 단어의 수를 세고 빈도 수로 정렬한다.\n",
    "# num_words에 입력한 만큼의 빈도 수를 반환한다.\n",
    "tokenizer = Tokenizer(num_words=freq_size+1) #, oov_token=\"<OOV>\")\n",
    "# 문자 데이터를 입력받아서 리스트의 형태로 변환합니다.\n",
    "tokenizer.fit_on_texts(X_train)"
   ]
  },
  {
   "cell_type": "markdown",
   "id": "548b2a9f-46f3-471e-a965-b6aeb4914703",
   "metadata": {},
   "source": [
    "# 3. Embedding(+Pretrained model use)"
   ]
  },
  {
   "cell_type": "code",
   "execution_count": 19,
   "id": "90ba71db-62f2-4fec-87c3-77f12be9b5ef",
   "metadata": {},
   "outputs": [
    {
     "name": "stdout",
     "output_type": "stream",
     "text": [
      "1\n",
      "47136\n"
     ]
    },
    {
     "data": {
      "text/plain": [
       "47136"
      ]
     },
     "execution_count": 19,
     "metadata": {},
     "output_type": "execute_result"
    }
   ],
   "source": [
    "# 단어는 (ex. {'apple':1, 'banana':2, ...}) 형태로 1부터 시작하는 dictionary를 반환합니다.\n",
    "# 단어 대문자->소문자, 구두점(ex. 느낌표, 마침표)은 제거되어 인덱싱됩니다.\n",
    "print(tokenizer.word_index['odin'])\n",
    "print(tokenizer.word_index['treesapple'])\n",
    "len(tokenizer.word_index)"
   ]
  },
  {
   "cell_type": "code",
   "execution_count": 20,
   "id": "8fd53108-3d37-40d6-a9de-a19fb25ec6c8",
   "metadata": {},
   "outputs": [
    {
     "name": "stdout",
     "output_type": "stream",
     "text": [
      "vocab_size :  47137\n"
     ]
    }
   ],
   "source": [
    "vocab_size = len(tokenizer.word_index) + 1 #모델에 알려줄 vocabulary의 크기 계산\n",
    "print('vocab_size : ', vocab_size)"
   ]
  },
  {
   "cell_type": "code",
   "execution_count": 21,
   "id": "e7f1228d-a7aa-4a1d-a5a0-3b9cbf75b7c1",
   "metadata": {},
   "outputs": [],
   "source": [
    "# 텍스트 -> 시퀀스 변환(list)\n",
    "# 위에서 fit_on_texts로 입력된 값(ex. X_train)에 토큰화되어있지 않는 단어를 넣으면 시퀀스에 포함되지 않는다!!!\n",
    "train_sequences = tokenizer.texts_to_sequences(X_train)\n",
    "test_sequences = tokenizer.texts_to_sequences(X_test)"
   ]
  },
  {
   "cell_type": "code",
   "execution_count": 22,
   "id": "67d723a8-bbc6-448f-9d70-dde7434147a6",
   "metadata": {},
   "outputs": [
    {
     "name": "stdout",
     "output_type": "stream",
     "text": [
      "54879 19617\n"
     ]
    }
   ],
   "source": [
    "print(len(train_sequences), len(test_sequences))"
   ]
  },
  {
   "cell_type": "code",
   "execution_count": 23,
   "id": "015d0443-66bc-4eed-9d7a-eafe80eb0f07",
   "metadata": {},
   "outputs": [
    {
     "data": {
      "text/plain": [
       "[[141, 20, 20, 316, 21, 229, 36, 452, 1202, 1701, 1207, 45, 57, 1, 1214],\n",
       " [217, 58, 221]]"
      ]
     },
     "execution_count": 23,
     "metadata": {},
     "output_type": "execute_result"
    }
   ],
   "source": [
    "train_sequences[:2]"
   ]
  },
  {
   "cell_type": "code",
   "execution_count": 24,
   "id": "2b6bc445-a385-4833-a9f3-b1cdd2df20f1",
   "metadata": {},
   "outputs": [
    {
     "data": {
      "text/plain": [
       "[[2,\n",
       "  23,\n",
       "  5,\n",
       "  1440,\n",
       "  65,\n",
       "  525,\n",
       "  77,\n",
       "  337,\n",
       "  41,\n",
       "  1791,\n",
       "  252,\n",
       "  849,\n",
       "  43,\n",
       "  1307,\n",
       "  43,\n",
       "  1121,\n",
       "  653,\n",
       "  117,\n",
       "  133,\n",
       "  105,\n",
       "  555,\n",
       "  236,\n",
       "  358,\n",
       "  277,\n",
       "  114,\n",
       "  182,\n",
       "  25,\n",
       "  655,\n",
       "  1459],\n",
       " [4, 113, 434, 1391, 2, 146, 161, 1490, 279, 952, 12, 11, 4]]"
      ]
     },
     "execution_count": 24,
     "metadata": {},
     "output_type": "execute_result"
    }
   ],
   "source": [
    "test_sequences[:2]"
   ]
  },
  {
   "cell_type": "code",
   "execution_count": 25,
   "id": "6141a4a1-84f5-4f6a-badf-86a1c615cf66",
   "metadata": {},
   "outputs": [
    {
     "name": "stdout",
     "output_type": "stream",
     "text": [
      "시퀀스 처리된 문장 중 가장 긴 문장의 길이는 160 입니다.\n"
     ]
    }
   ],
   "source": [
    "# 문장 중에서 가장 길이가 긴 문장의 길이로 패딩을 처리할 것입니다.\n",
    "max_len = max(len(l) for l in train_sequences)\n",
    "print(f\"시퀀스 처리된 문장 중 가장 긴 문장의 길이는 {max_len} 입니다.\")"
   ]
  },
  {
   "cell_type": "code",
   "execution_count": 26,
   "id": "ca7e16cf-9d76-47d9-9a32-e8191e3551c9",
   "metadata": {},
   "outputs": [],
   "source": [
    "# 텍스트 길이 맞추기 padding(numpy)\n",
    "# 서로 다른 개수의 단어로 이루어진 문장을 같은 길이로 만들기 위해 패딩을 사용한다.\n",
    "# 상대적으로 길이가 짧은 문장을 긴 문장의 길이와 맞추기 위해 부족한 길이를 0으로 채운다.\n",
    "train_padded = pad_sequences(train_sequences, padding=padding_type, maxlen=max_len)\n",
    "test_padded = pad_sequences(test_sequences, padding=padding_type, maxlen=max_len)"
   ]
  },
  {
   "cell_type": "code",
   "execution_count": 27,
   "id": "be75940b-6f13-4eeb-bde7-a86e5344fc4e",
   "metadata": {},
   "outputs": [
    {
     "name": "stdout",
     "output_type": "stream",
     "text": [
      "(54879, 160) (19617, 160)\n"
     ]
    }
   ],
   "source": [
    "print(train_padded.shape, test_padded.shape)"
   ]
  },
  {
   "cell_type": "code",
   "execution_count": 28,
   "id": "10ccd2f1-58d2-45e8-88bd-94ddb4d4fb01",
   "metadata": {},
   "outputs": [
    {
     "data": {
      "text/plain": [
       "array([[ 141,   20,   20, ...,    0,    0,    0],\n",
       "       [ 217,   58,  221, ...,    0,    0,    0],\n",
       "       [ 682,    5,   59, ...,    0,    0,    0],\n",
       "       ...,\n",
       "       [ 126,  217, 1670, ...,    0,    0,    0],\n",
       "       [ 316,  164,    0, ...,    0,    0,    0],\n",
       "       [ 203,    2,  811, ...,    0,    0,    0]])"
      ]
     },
     "execution_count": 28,
     "metadata": {},
     "output_type": "execute_result"
    }
   ],
   "source": [
    "train_padded"
   ]
  },
  {
   "cell_type": "code",
   "execution_count": 29,
   "id": "5c6cc2d3-8d40-438a-89cb-4ebe0cc6c1f0",
   "metadata": {},
   "outputs": [
    {
     "data": {
      "text/plain": [
       "array([[   2,   23,    5, ...,    0,    0,    0],\n",
       "       [   4,  113,  434, ...,    0,    0,    0],\n",
       "       [ 120, 1244,  128, ...,    0,    0,    0],\n",
       "       ...,\n",
       "       [   1,  445, 1656, ...,    0,    0,    0],\n",
       "       [ 109,    8,   19, ...,    0,    0,    0],\n",
       "       [ 599,   10, 1696, ...,    0,    0,    0]])"
      ]
     },
     "execution_count": 29,
     "metadata": {},
     "output_type": "execute_result"
    }
   ],
   "source": [
    "test_padded"
   ]
  },
  {
   "cell_type": "code",
   "execution_count": 30,
   "id": "f99cc68b-8314-41cd-ae00-98cc5e03f9e5",
   "metadata": {},
   "outputs": [
    {
     "name": "stderr",
     "output_type": "stream",
     "text": [
      "Warning : `load_model` does not return WordVectorModel or SupervisedModel any more, but a `FastText` object which is very similar.\n"
     ]
    }
   ],
   "source": [
    "# Pretrained model\n",
    "\n",
    "# Word2Vec model\n",
    "# word2vec_model = KeyedVectors.load_word2vec_format('GoogleNews-vectors-negative300.bin.gz', binary=True)\n",
    "\n",
    "# fastText model\n",
    "fastText_model = fasttext.load_model('word-embeddings/fasttext/fasttext.bin')"
   ]
  },
  {
   "cell_type": "code",
   "execution_count": 31,
   "id": "c3c01bad-7aab-42a2-80fe-1520fc6730f6",
   "metadata": {},
   "outputs": [],
   "source": [
    "embedding_dim = 100"
   ]
  },
  {
   "cell_type": "code",
   "execution_count": 32,
   "id": "09e89dc9-7333-4ace-8a66-01558f0fde17",
   "metadata": {},
   "outputs": [],
   "source": [
    "# 임베딩 값을 저장할 공간\n",
    "embedding_matrix = np.zeros((vocab_size, embedding_dim))"
   ]
  },
  {
   "cell_type": "code",
   "execution_count": 33,
   "id": "64a12d9c-cbb2-4cad-b762-382f92999d71",
   "metadata": {},
   "outputs": [],
   "source": [
    "def get_vector(word):\n",
    "    if word in fastText_model:\n",
    "        return fastText_model[word]\n",
    "    else:\n",
    "        return None"
   ]
  },
  {
   "cell_type": "code",
   "execution_count": 34,
   "id": "13ff04f3-d1a7-4a9e-893c-fb18108ac131",
   "metadata": {},
   "outputs": [],
   "source": [
    "for word, i in tokenizer.word_index.items(): # 훈련 데이터의 단어 집합에서 단어와 정수 인덱스를 1개씩 꺼내온다.\n",
    "    temp = get_vector(word) # 단어(key) 해당되는 임베딩 벡터의 값(value)를 temp에 저장\n",
    "    if temp is not None: # 만약 temp가 None이 아니라면 임베딩 벡터의 값을 리턴받은 것이므로\n",
    "        embedding_matrix[i] = temp # embedding_matrix의 해당 단어 위치의 행에 벡터의 값을 저장한다."
   ]
  },
  {
   "cell_type": "code",
   "execution_count": 35,
   "id": "bd8d9c7a-71e2-42e4-91b4-2ee9796bfc37",
   "metadata": {},
   "outputs": [
    {
     "name": "stdout",
     "output_type": "stream",
     "text": [
      "[-0.04998829 -0.18253732 -0.27969757 -0.27977663  0.10857684  0.388294\n",
      "  0.40117058  0.7248009  -0.28977823  0.5668249   0.32375613 -0.14560597\n",
      "  0.6868329   0.3623459   0.46733359 -0.07494017  0.06123554 -0.02487937\n",
      "  0.5860048   0.45586613 -0.3328445  -0.25034773 -0.4721855   0.14768477\n",
      " -0.18063433  0.95445687 -0.01118835 -0.09032692  0.67216605  0.0925161\n",
      "  0.2856738   0.75324583 -0.5556388  -0.11671881 -0.33441705 -0.05370855\n",
      "  0.03414882  0.3196702   0.05523127  0.04212253  0.03164786 -0.51626635\n",
      "  0.55879927 -0.1895099  -0.3105072  -0.35776258  0.51512694 -0.47772348\n",
      " -0.67454195  0.25225025  0.36903894 -0.03699824  0.45187363 -0.48229814\n",
      " -0.60717225  0.1424689  -0.01876296 -0.67178136 -0.22196543 -0.9344287\n",
      " -0.6923644   0.65954566 -0.281638    0.16419232  0.29630715 -0.36719623\n",
      "  0.69642925 -0.0860661  -0.31731993  0.41234097 -0.05776118  0.06376278\n",
      "  0.00660518  0.0846712   0.6928425   0.10280303 -0.5902439  -0.30528638\n",
      " -0.38699368 -0.38289726 -0.29811007 -0.41951188  0.42013773 -0.3486116\n",
      "  0.2159839  -0.39671257 -0.39745077  0.39515826 -0.33826235 -0.18139295\n",
      " -0.8559719  -0.6862213   0.07430027 -0.22649406 -0.47719488  0.7094854\n",
      "  0.5614669  -0.43720794  0.8757671   0.7090648 ]\n"
     ]
    }
   ],
   "source": [
    "print(fastText_model['nice'])"
   ]
  },
  {
   "cell_type": "code",
   "execution_count": 36,
   "id": "f9a6117c-b747-47a9-b87d-0061ec3b6ce6",
   "metadata": {},
   "outputs": [
    {
     "name": "stdout",
     "output_type": "stream",
     "text": [
      "현재 단어 집합에서 단어 nice의 정수 인덱스 : 1462\n"
     ]
    }
   ],
   "source": [
    "print('현재 단어 집합에서 단어 nice의 정수 인덱스 :', tokenizer.word_index['nice'])"
   ]
  },
  {
   "cell_type": "code",
   "execution_count": 37,
   "id": "6c84c21a-610b-4b6c-b044-a548f043ed99",
   "metadata": {},
   "outputs": [
    {
     "name": "stdout",
     "output_type": "stream",
     "text": [
      "[-0.04998829 -0.18253732 -0.27969757 -0.27977663  0.10857684  0.38829401\n",
      "  0.40117058  0.72480088 -0.28977823  0.56682491  0.32375613 -0.14560597\n",
      "  0.6868329   0.3623459   0.46733359 -0.07494017  0.06123554 -0.02487937\n",
      "  0.58600479  0.45586613 -0.3328445  -0.25034773 -0.47218549  0.14768477\n",
      " -0.18063433  0.95445687 -0.01118835 -0.09032692  0.67216605  0.0925161\n",
      "  0.2856738   0.75324583 -0.55563879 -0.11671881 -0.33441705 -0.05370855\n",
      "  0.03414882  0.3196702   0.05523127  0.04212253  0.03164786 -0.51626635\n",
      "  0.55879927 -0.1895099  -0.31050721 -0.35776258  0.51512694 -0.47772348\n",
      " -0.67454195  0.25225025  0.36903894 -0.03699824  0.45187363 -0.48229814\n",
      " -0.60717225  0.1424689  -0.01876296 -0.67178136 -0.22196543 -0.93442869\n",
      " -0.69236439  0.65954566 -0.281638    0.16419232  0.29630715 -0.36719623\n",
      "  0.69642925 -0.0860661  -0.31731993  0.41234097 -0.05776118  0.06376278\n",
      "  0.00660518  0.0846712   0.69284248  0.10280303 -0.59024388 -0.30528638\n",
      " -0.38699368 -0.38289726 -0.29811007 -0.41951188  0.42013773 -0.34861159\n",
      "  0.2159839  -0.39671257 -0.39745077  0.39515826 -0.33826235 -0.18139295\n",
      " -0.85597187 -0.6862213   0.07430027 -0.22649406 -0.47719488  0.70948541\n",
      "  0.56146687 -0.43720794  0.87576711  0.70906478]\n"
     ]
    }
   ],
   "source": [
    "print(embedding_matrix[1462])"
   ]
  },
  {
   "cell_type": "code",
   "execution_count": 38,
   "id": "7b087fa9-6470-4b1f-8ed1-6c8827e2a0e2",
   "metadata": {},
   "outputs": [
    {
     "data": {
      "text/plain": [
       "array([ True,  True,  True,  True,  True,  True,  True,  True,  True,\n",
       "        True,  True,  True,  True,  True,  True,  True,  True,  True,\n",
       "        True,  True,  True,  True,  True,  True,  True,  True,  True,\n",
       "        True,  True,  True,  True,  True,  True,  True,  True,  True,\n",
       "        True,  True,  True,  True,  True,  True,  True,  True,  True,\n",
       "        True,  True,  True,  True,  True,  True,  True,  True,  True,\n",
       "        True,  True,  True,  True,  True,  True,  True,  True,  True,\n",
       "        True,  True,  True,  True,  True,  True,  True,  True,  True,\n",
       "        True,  True,  True,  True,  True,  True,  True,  True,  True,\n",
       "        True,  True,  True,  True,  True,  True,  True,  True,  True,\n",
       "        True,  True,  True,  True,  True,  True,  True,  True,  True,\n",
       "        True])"
      ]
     },
     "execution_count": 38,
     "metadata": {},
     "output_type": "execute_result"
    }
   ],
   "source": [
    "# fastText_model의 nice라는 단어는 embedding_matrix에 인덱스 1462번으로 할당되어\n",
    "# 실제 nice라는 벡터 값이 들어갔다.\n",
    "# embedding_matrix는 학습 시, 가중치로 사용될 것이다.\n",
    "fastText_model['nice'] == embedding_matrix[1462]"
   ]
  },
  {
   "cell_type": "code",
   "execution_count": 39,
   "id": "34ba561e-eb06-4909-b1f3-0f6eb185205b",
   "metadata": {},
   "outputs": [
    {
     "data": {
      "text/plain": [
       "(47137, 100)"
      ]
     },
     "execution_count": 39,
     "metadata": {},
     "output_type": "execute_result"
    }
   ],
   "source": [
    "embedding_matrix.shape"
   ]
  },
  {
   "cell_type": "code",
   "execution_count": 40,
   "id": "525f0a40-5263-4e48-b895-e7bdeef5e873",
   "metadata": {},
   "outputs": [
    {
     "name": "stdout",
     "output_type": "stream",
     "text": [
      "[3 2 1 ... 1 3 0]\n",
      "(54879,)\n"
     ]
    }
   ],
   "source": [
    "print(y_train)\n",
    "print(y_train.shape)"
   ]
  },
  {
   "cell_type": "markdown",
   "id": "94ddd7a6-dc89-44cd-81cd-8471b2dbe982",
   "metadata": {},
   "source": [
    "# 4. Model"
   ]
  },
  {
   "cell_type": "code",
   "execution_count": null,
   "id": "fdcd53cc-0693-4db2-ab68-dd09335d2b0f",
   "metadata": {},
   "outputs": [],
   "source": [
    "# ES = tf.keras.callbacks.EarlyStopping(patience=10, monitor='val_loss')"
   ]
  },
  {
   "cell_type": "markdown",
   "id": "5972caec-ce58-4976-bbeb-86fa12ce4486",
   "metadata": {},
   "source": [
    "## 4-1. baseline 모델"
   ]
  },
  {
   "cell_type": "code",
   "execution_count": 46,
   "id": "9932fc65-b485-47c2-a15c-235872e44ada",
   "metadata": {},
   "outputs": [],
   "source": [
    "# baseline\n",
    "model_base = tf.keras.Sequential([\n",
    "    tf.keras.layers.Embedding(vocab_size, embedding_dim, weights=[embedding_matrix], input_length=max_len),\n",
    "    tf.keras.layers.GlobalAveragePooling1D(),\n",
    "    tf.keras.layers.Dense(24, activation='relu'),\n",
    "    tf.keras.layers.Dense(5, activation='softmax')\n",
    "])"
   ]
  },
  {
   "cell_type": "code",
   "execution_count": 47,
   "id": "ed7b3e0c-aa4c-4928-af4d-cc0680fec822",
   "metadata": {},
   "outputs": [
    {
     "name": "stdout",
     "output_type": "stream",
     "text": [
      "Model: \"sequential_1\"\n",
      "_________________________________________________________________\n",
      "Layer (type)                 Output Shape              Param #   \n",
      "=================================================================\n",
      "embedding_1 (Embedding)      (None, 160, 100)          4713700   \n",
      "_________________________________________________________________\n",
      "global_average_pooling1d_1 ( (None, 100)               0         \n",
      "_________________________________________________________________\n",
      "dense_2 (Dense)              (None, 24)                2424      \n",
      "_________________________________________________________________\n",
      "dense_3 (Dense)              (None, 5)                 125       \n",
      "=================================================================\n",
      "Total params: 4,716,249\n",
      "Trainable params: 4,716,249\n",
      "Non-trainable params: 0\n",
      "_________________________________________________________________\n"
     ]
    }
   ],
   "source": [
    "# Compile & Summary\n",
    "model_base.compile(loss='sparse_categorical_crossentropy',\n",
    "                   optimizer='adam',\n",
    "                   metrics=['accuracy'])\n",
    "\n",
    "model_base.summary()"
   ]
  },
  {
   "cell_type": "code",
   "execution_count": 48,
   "id": "962bfd54-bd5d-4847-a7ba-f20d5bb8ceef",
   "metadata": {},
   "outputs": [
    {
     "name": "stdout",
     "output_type": "stream",
     "text": [
      "Epoch 1/10\n",
      "343/343 [==============================] - 12s 33ms/step - loss: 1.5663 - accuracy: 0.2682 - val_loss: 1.5185 - val_accuracy: 0.3023\n",
      "Epoch 2/10\n",
      "343/343 [==============================] - 11s 33ms/step - loss: 1.4728 - accuracy: 0.3727 - val_loss: 1.2995 - val_accuracy: 0.4705\n",
      "Epoch 3/10\n",
      "343/343 [==============================] - 11s 31ms/step - loss: 1.2306 - accuracy: 0.5214 - val_loss: 1.0999 - val_accuracy: 0.5735\n",
      "Epoch 4/10\n",
      "343/343 [==============================] - 11s 31ms/step - loss: 1.0540 - accuracy: 0.5931 - val_loss: 1.0159 - val_accuracy: 0.6030\n",
      "Epoch 5/10\n",
      "343/343 [==============================] - 11s 31ms/step - loss: 0.9730 - accuracy: 0.6221 - val_loss: 0.9758 - val_accuracy: 0.6255\n",
      "Epoch 6/10\n",
      "343/343 [==============================] - 11s 31ms/step - loss: 0.9237 - accuracy: 0.6427 - val_loss: 0.9651 - val_accuracy: 0.6284\n",
      "Epoch 7/10\n",
      "343/343 [==============================] - 11s 31ms/step - loss: 0.8963 - accuracy: 0.6562 - val_loss: 0.9279 - val_accuracy: 0.6446\n",
      "Epoch 8/10\n",
      "343/343 [==============================] - 11s 32ms/step - loss: 0.8596 - accuracy: 0.6662 - val_loss: 0.9025 - val_accuracy: 0.6570\n",
      "Epoch 9/10\n",
      "343/343 [==============================] - 11s 31ms/step - loss: 0.8357 - accuracy: 0.6779 - val_loss: 0.8929 - val_accuracy: 0.6583\n",
      "Epoch 10/10\n",
      "343/343 [==============================] - 11s 32ms/step - loss: 0.8165 - accuracy: 0.6831 - val_loss: 0.8823 - val_accuracy: 0.6669\n"
     ]
    }
   ],
   "source": [
    "# Fit\n",
    "history = model_base.fit(train_padded, y_train,\n",
    "                         epochs=10, validation_split=0.2,\n",
    "                         batch_size=128)"
   ]
  },
  {
   "cell_type": "code",
   "execution_count": 49,
   "id": "5bdf7c7c-51a0-40b6-bcf9-609ec7c5a586",
   "metadata": {},
   "outputs": [
    {
     "name": "stdout",
     "output_type": "stream",
     "text": [
      "1715/1715 [==============================] - 4s 3ms/step - loss: 0.8118 - accuracy: 0.6894\n",
      "Accuracy: 68.937117\n",
      "loss: 0.811781\n"
     ]
    }
   ],
   "source": [
    "loss, accuracy = model_base.evaluate(train_padded, y_train)\n",
    "\n",
    "print('Accuracy: %f' % (accuracy * 100))\n",
    "print('loss: %f' % (loss))"
   ]
  },
  {
   "cell_type": "code",
   "execution_count": 50,
   "id": "f584da55-9172-4012-8b40-8f98de6c1238",
   "metadata": {},
   "outputs": [
    {
     "data": {
      "image/png": "[encoded data removed]",
      "text/plain": [
       "<Figure size 864x288 with 2 Axes>"
      ]
     },
     "metadata": {
      "needs_background": "light"
     },
     "output_type": "display_data"
    }
   ],
   "source": [
    "# ■■■■■■■■■■■■■■■■ Result visualization ■■■■■■■■■■■■■■■■\n",
    "plt.figure(figsize=(12, 4))\n",
    "plt.title('model', fontsize=16)\n",
    "\n",
    "plt.subplot(1, 2, 1)\n",
    "plt.title('loss of BASELINE', fontsize=16)\n",
    "plt.plot(history.history['loss'], 'b-', label='loss')\n",
    "plt.plot(history.history['val_loss'], 'r--', label='val_loss')\n",
    "plt.xlabel('Epoch')\n",
    "plt.legend()\n",
    "\n",
    "plt.subplot(1, 2, 2)\n",
    "plt.title('accuracy of BASELINE', fontsize=16)\n",
    "plt.plot(history.history['accuracy'], 'g-', label='accuracy')\n",
    "plt.plot(history.history['val_accuracy'], 'o--', label='val_accuracy')\n",
    "plt.xlabel('Epoch')\n",
    "plt.legend()\n",
    "\n",
    "plt.show()"
   ]
  },
  {
   "cell_type": "code",
   "execution_count": 51,
   "id": "8bc134c2-deda-44f1-ad31-355fcf9baa06",
   "metadata": {},
   "outputs": [
    {
     "name": "stderr",
     "output_type": "stream",
     "text": [
      "C:\\Users\\GBJ\\anaconda3\\envs\\tf240\\lib\\site-packages\\tensorflow\\python\\keras\\engine\\sequential.py:425: UserWarning: `model.predict_proba()` is deprecated and will be removed after 2021-01-01. Please use `model.predict()` instead.\n",
      "  warnings.warn('`model.predict_proba()` is deprecated and '\n"
     ]
    },
    {
     "data": {
      "text/plain": [
       "array([[6.8007773e-03, 9.4857401e-01, 1.9411450e-02, 2.4107359e-02,\n",
       "        1.1063633e-03],\n",
       "       [2.9616603e-01, 4.6029705e-01, 7.5212307e-02, 2.8460871e-02,\n",
       "        1.3986364e-01],\n",
       "       [8.5811090e-01, 7.7653127e-03, 8.4900651e-03, 9.5224101e-04,\n",
       "        1.2468150e-01],\n",
       "       ...,\n",
       "       [1.4995631e-02, 9.8248601e-01, 1.3979996e-04, 1.5660027e-03,\n",
       "        8.1258413e-04],\n",
       "       [2.6918780e-03, 9.9189913e-01, 8.7321876e-04, 3.9997213e-03,\n",
       "        5.3594203e-04],\n",
       "       [4.1086215e-01, 5.0481739e-03, 4.9793032e-01, 2.3564701e-03,\n",
       "        8.3802886e-02]], dtype=float32)"
      ]
     },
     "execution_count": 51,
     "metadata": {},
     "output_type": "execute_result"
    }
   ],
   "source": [
    "# predict values\n",
    "pred = model_base.predict_proba(test_padded)\n",
    "\n",
    "pred"
   ]
  },
  {
   "cell_type": "code",
   "execution_count": 52,
   "id": "65f7ac40-8b75-41ab-9552-155f16390c26",
   "metadata": {},
   "outputs": [
    {
     "data": {
      "text/html": [
       "<div>\n",
       "<style scoped>\n",
       "    .dataframe tbody tr th:only-of-type {\n",
       "        vertical-align: middle;\n",
       "    }\n",
       "\n",
       "    .dataframe tbody tr th {\n",
       "        vertical-align: top;\n",
       "    }\n",
       "\n",
       "    .dataframe thead th {\n",
       "        text-align: right;\n",
       "    }\n",
       "</style>\n",
       "<table border=\"1\" class=\"dataframe\">\n",
       "  <thead>\n",
       "    <tr style=\"text-align: right;\">\n",
       "      <th></th>\n",
       "      <th>index</th>\n",
       "      <th>0</th>\n",
       "      <th>1</th>\n",
       "      <th>2</th>\n",
       "      <th>3</th>\n",
       "      <th>4</th>\n",
       "    </tr>\n",
       "  </thead>\n",
       "  <tbody>\n",
       "    <tr>\n",
       "      <th>0</th>\n",
       "      <td>0</td>\n",
       "      <td>0.006801</td>\n",
       "      <td>9.485740e-01</td>\n",
       "      <td>1.941145e-02</td>\n",
       "      <td>2.410736e-02</td>\n",
       "      <td>1.106363e-03</td>\n",
       "    </tr>\n",
       "    <tr>\n",
       "      <th>1</th>\n",
       "      <td>1</td>\n",
       "      <td>0.296166</td>\n",
       "      <td>4.602970e-01</td>\n",
       "      <td>7.521231e-02</td>\n",
       "      <td>2.846087e-02</td>\n",
       "      <td>1.398636e-01</td>\n",
       "    </tr>\n",
       "    <tr>\n",
       "      <th>2</th>\n",
       "      <td>2</td>\n",
       "      <td>0.858111</td>\n",
       "      <td>7.765313e-03</td>\n",
       "      <td>8.490065e-03</td>\n",
       "      <td>9.522410e-04</td>\n",
       "      <td>1.246815e-01</td>\n",
       "    </tr>\n",
       "    <tr>\n",
       "      <th>3</th>\n",
       "      <td>3</td>\n",
       "      <td>0.005789</td>\n",
       "      <td>5.455258e-07</td>\n",
       "      <td>8.694688e-01</td>\n",
       "      <td>1.473806e-08</td>\n",
       "      <td>1.247417e-01</td>\n",
       "    </tr>\n",
       "    <tr>\n",
       "      <th>4</th>\n",
       "      <td>4</td>\n",
       "      <td>0.514076</td>\n",
       "      <td>1.850511e-01</td>\n",
       "      <td>5.456523e-02</td>\n",
       "      <td>9.891015e-02</td>\n",
       "      <td>1.473972e-01</td>\n",
       "    </tr>\n",
       "    <tr>\n",
       "      <th>...</th>\n",
       "      <td>...</td>\n",
       "      <td>...</td>\n",
       "      <td>...</td>\n",
       "      <td>...</td>\n",
       "      <td>...</td>\n",
       "      <td>...</td>\n",
       "    </tr>\n",
       "    <tr>\n",
       "      <th>19612</th>\n",
       "      <td>19612</td>\n",
       "      <td>0.000109</td>\n",
       "      <td>9.998912e-01</td>\n",
       "      <td>1.068238e-09</td>\n",
       "      <td>4.169297e-08</td>\n",
       "      <td>7.078897e-09</td>\n",
       "    </tr>\n",
       "    <tr>\n",
       "      <th>19613</th>\n",
       "      <td>19613</td>\n",
       "      <td>0.092419</td>\n",
       "      <td>5.769578e-05</td>\n",
       "      <td>2.297994e-02</td>\n",
       "      <td>9.060328e-07</td>\n",
       "      <td>8.845426e-01</td>\n",
       "    </tr>\n",
       "    <tr>\n",
       "      <th>19614</th>\n",
       "      <td>19614</td>\n",
       "      <td>0.014996</td>\n",
       "      <td>9.824860e-01</td>\n",
       "      <td>1.398000e-04</td>\n",
       "      <td>1.566003e-03</td>\n",
       "      <td>8.125841e-04</td>\n",
       "    </tr>\n",
       "    <tr>\n",
       "      <th>19615</th>\n",
       "      <td>19615</td>\n",
       "      <td>0.002692</td>\n",
       "      <td>9.918991e-01</td>\n",
       "      <td>8.732188e-04</td>\n",
       "      <td>3.999721e-03</td>\n",
       "      <td>5.359420e-04</td>\n",
       "    </tr>\n",
       "    <tr>\n",
       "      <th>19616</th>\n",
       "      <td>19616</td>\n",
       "      <td>0.410862</td>\n",
       "      <td>5.048174e-03</td>\n",
       "      <td>4.979303e-01</td>\n",
       "      <td>2.356470e-03</td>\n",
       "      <td>8.380289e-02</td>\n",
       "    </tr>\n",
       "  </tbody>\n",
       "</table>\n",
       "<p>19617 rows × 6 columns</p>\n",
       "</div>"
      ],
      "text/plain": [
       "       index         0             1             2             3             4\n",
       "0          0  0.006801  9.485740e-01  1.941145e-02  2.410736e-02  1.106363e-03\n",
       "1          1  0.296166  4.602970e-01  7.521231e-02  2.846087e-02  1.398636e-01\n",
       "2          2  0.858111  7.765313e-03  8.490065e-03  9.522410e-04  1.246815e-01\n",
       "3          3  0.005789  5.455258e-07  8.694688e-01  1.473806e-08  1.247417e-01\n",
       "4          4  0.514076  1.850511e-01  5.456523e-02  9.891015e-02  1.473972e-01\n",
       "...      ...       ...           ...           ...           ...           ...\n",
       "19612  19612  0.000109  9.998912e-01  1.068238e-09  4.169297e-08  7.078897e-09\n",
       "19613  19613  0.092419  5.769578e-05  2.297994e-02  9.060328e-07  8.845426e-01\n",
       "19614  19614  0.014996  9.824860e-01  1.398000e-04  1.566003e-03  8.125841e-04\n",
       "19615  19615  0.002692  9.918991e-01  8.732188e-04  3.999721e-03  5.359420e-04\n",
       "19616  19616  0.410862  5.048174e-03  4.979303e-01  2.356470e-03  8.380289e-02\n",
       "\n",
       "[19617 rows x 6 columns]"
      ]
     },
     "execution_count": 52,
     "metadata": {},
     "output_type": "execute_result"
    }
   ],
   "source": [
    "# submission\n",
    "sample_submission[['0','1','2','3','4']] = pred\n",
    "sample_submission"
   ]
  },
  {
   "cell_type": "code",
   "execution_count": 53,
   "id": "28c6547a-98af-465a-ad28-3acd96e144d6",
   "metadata": {},
   "outputs": [],
   "source": [
    "sample_submission.to_csv('submission/submission_baseline.csv', index = False, encoding = 'utf-8')"
   ]
  },
  {
   "cell_type": "markdown",
   "id": "d28b875c-a92e-4384-820f-89771c2bedd4",
   "metadata": {},
   "source": [
    "## 4-2. LSTM 모델"
   ]
  },
  {
   "cell_type": "code",
   "execution_count": 65,
   "id": "45a4fcf4-3f79-40a4-884f-c73e4af602a0",
   "metadata": {},
   "outputs": [],
   "source": [
    "model_lstm = tf.keras.Sequential([\n",
    "    tf.keras.layers.Embedding(vocab_size, embedding_dim, weights=[embedding_matrix], input_length=max_len),\n",
    "    tf.keras.layers.LSTM(units=256, return_sequences=True),\n",
    "    tf.keras.layers.LSTM(units=128, return_sequences=True),\n",
    "    tf.keras.layers.LSTM(units=64),\n",
    "    tf.keras.layers.Dense(5, activation='softmax')\n",
    "])"
   ]
  },
  {
   "cell_type": "code",
   "execution_count": 66,
   "id": "7f7d9fec-edc7-4f75-aee8-4803998085e6",
   "metadata": {},
   "outputs": [
    {
     "name": "stdout",
     "output_type": "stream",
     "text": [
      "Model: \"sequential_5\"\n",
      "_________________________________________________________________\n",
      "Layer (type)                 Output Shape              Param #   \n",
      "=================================================================\n",
      "embedding_5 (Embedding)      (None, 160, 100)          4713700   \n",
      "_________________________________________________________________\n",
      "lstm_7 (LSTM)                (None, 160, 256)          365568    \n",
      "_________________________________________________________________\n",
      "lstm_8 (LSTM)                (None, 160, 128)          197120    \n",
      "_________________________________________________________________\n",
      "lstm_9 (LSTM)                (None, 64)                49408     \n",
      "_________________________________________________________________\n",
      "dense_7 (Dense)              (None, 5)                 325       \n",
      "=================================================================\n",
      "Total params: 5,326,121\n",
      "Trainable params: 5,326,121\n",
      "Non-trainable params: 0\n",
      "_________________________________________________________________\n"
     ]
    }
   ],
   "source": [
    "# Compile & Summary\n",
    "model_lstm.compile(loss='sparse_categorical_crossentropy',\n",
    "                   optimizer='adam',\n",
    "                   metrics=['accuracy'])\n",
    "\n",
    "model_lstm.summary()"
   ]
  },
  {
   "cell_type": "code",
   "execution_count": 67,
   "id": "60fb3c73-8c43-4dd3-8d6c-e2a92dc7e2c4",
   "metadata": {},
   "outputs": [
    {
     "name": "stdout",
     "output_type": "stream",
     "text": [
      "Epoch 1/10\n",
      "343/343 [==============================] - 30s 74ms/step - loss: 1.5734 - accuracy: 0.2798 - val_loss: 1.5710 - val_accuracy: 0.2680\n",
      "Epoch 2/10\n",
      "343/343 [==============================] - 24s 71ms/step - loss: 1.5728 - accuracy: 0.2731 - val_loss: 1.5734 - val_accuracy: 0.2680\n",
      "Epoch 3/10\n",
      "343/343 [==============================] - 24s 69ms/step - loss: 1.5709 - accuracy: 0.2774 - val_loss: 1.5714 - val_accuracy: 0.2680\n",
      "Epoch 4/10\n",
      "343/343 [==============================] - 24s 70ms/step - loss: 1.5693 - accuracy: 0.2783 - val_loss: 1.5712 - val_accuracy: 0.2680\n",
      "Epoch 5/10\n",
      "343/343 [==============================] - 24s 70ms/step - loss: 1.5722 - accuracy: 0.2746 - val_loss: 1.5714 - val_accuracy: 0.2680\n",
      "Epoch 6/10\n",
      "343/343 [==============================] - 24s 70ms/step - loss: 1.5704 - accuracy: 0.2757 - val_loss: 1.5713 - val_accuracy: 0.2680\n",
      "Epoch 7/10\n",
      "343/343 [==============================] - 24s 70ms/step - loss: 1.5667 - accuracy: 0.2773 - val_loss: 1.5717 - val_accuracy: 0.2680\n",
      "Epoch 8/10\n",
      "343/343 [==============================] - 24s 70ms/step - loss: 1.5705 - accuracy: 0.2756 - val_loss: 1.5714 - val_accuracy: 0.2680\n",
      "Epoch 9/10\n",
      "343/343 [==============================] - 24s 70ms/step - loss: 1.5683 - accuracy: 0.2769 - val_loss: 1.5715 - val_accuracy: 0.2680\n",
      "Epoch 10/10\n",
      "343/343 [==============================] - 24s 70ms/step - loss: 1.5729 - accuracy: 0.2730 - val_loss: 1.5715 - val_accuracy: 0.2680\n"
     ]
    }
   ],
   "source": [
    "# Fit\n",
    "history = model_lstm.fit(train_padded, y_train,\n",
    "                         epochs=10, validation_split=0.2,\n",
    "                         batch_size=128)"
   ]
  },
  {
   "cell_type": "code",
   "execution_count": 68,
   "id": "cd56aee0-46ed-4595-9e7b-a48a2dd5c769",
   "metadata": {},
   "outputs": [
    {
     "name": "stdout",
     "output_type": "stream",
     "text": [
      "1715/1715 [==============================] - 24s 14ms/step - loss: 1.5703 - accuracy: 0.2745\n",
      "Accuracy: 27.447659\n",
      "loss: 1.570307\n"
     ]
    }
   ],
   "source": [
    "loss, accuracy = model_lstm.evaluate(train_padded, y_train)\n",
    "\n",
    "print('Accuracy: %f' % (accuracy * 100))\n",
    "print('loss: %f' % (loss))"
   ]
  },
  {
   "cell_type": "code",
   "execution_count": 69,
   "id": "3dc0874c-7009-48e2-a897-74fdb5322b5f",
   "metadata": {},
   "outputs": [
    {
     "data": {
      "image/png": "[encoded data removed]",
      "text/plain": [
       "<Figure size 864x288 with 2 Axes>"
      ]
     },
     "metadata": {
      "needs_background": "light"
     },
     "output_type": "display_data"
    }
   ],
   "source": [
    "# ■■■■■■■■■■■■■■■■ Result visualization ■■■■■■■■■■■■■■■■\n",
    "plt.figure(figsize=(12, 4))\n",
    "plt.title('model', fontsize=16)\n",
    "\n",
    "plt.subplot(1, 2, 1)\n",
    "plt.title('loss of LSTM', fontsize=16)\n",
    "plt.plot(history.history['loss'], 'b-', label='loss')\n",
    "plt.plot(history.history['val_loss'], 'r--', label='val_loss')\n",
    "plt.xlabel('Epoch')\n",
    "plt.legend()\n",
    "\n",
    "plt.subplot(1, 2, 2)\n",
    "plt.title('accuracy of LSTM', fontsize=16)\n",
    "plt.plot(history.history['accuracy'], 'g-', label='accuracy')\n",
    "plt.plot(history.history['val_accuracy'], 'o--', label='val_accuracy')\n",
    "plt.xlabel('Epoch')\n",
    "plt.legend()\n",
    "\n",
    "plt.show()"
   ]
  },
  {
   "cell_type": "code",
   "execution_count": 70,
   "id": "7d66d1b4-9b21-4102-9c78-bb9b1df2347e",
   "metadata": {},
   "outputs": [
    {
     "name": "stderr",
     "output_type": "stream",
     "text": [
      "C:\\Users\\GBJ\\anaconda3\\envs\\tf240\\lib\\site-packages\\tensorflow\\python\\keras\\engine\\sequential.py:425: UserWarning: `model.predict_proba()` is deprecated and will be removed after 2021-01-01. Please use `model.predict()` instead.\n",
      "  warnings.warn('`model.predict_proba()` is deprecated and '\n"
     ]
    },
    {
     "data": {
      "text/plain": [
       "array([[0.2405051 , 0.12746708, 0.21133037, 0.280019  , 0.14067845],\n",
       "       [0.2405051 , 0.12746708, 0.21133037, 0.280019  , 0.14067845],\n",
       "       [0.2405051 , 0.12746708, 0.21133037, 0.280019  , 0.14067845],\n",
       "       ...,\n",
       "       [0.2405051 , 0.12746708, 0.21133037, 0.280019  , 0.14067845],\n",
       "       [0.2405051 , 0.12746708, 0.21133037, 0.280019  , 0.14067845],\n",
       "       [0.2405051 , 0.12746708, 0.21133037, 0.280019  , 0.14067845]],\n",
       "      dtype=float32)"
      ]
     },
     "execution_count": 70,
     "metadata": {},
     "output_type": "execute_result"
    }
   ],
   "source": [
    "# predict values\n",
    "pred = model_lstm.predict_proba(test_padded)\n",
    "\n",
    "pred"
   ]
  },
  {
   "cell_type": "code",
   "execution_count": 71,
   "id": "53387293-fcd1-4866-8616-7243dce7b2b3",
   "metadata": {},
   "outputs": [
    {
     "data": {
      "text/html": [
       "<div>\n",
       "<style scoped>\n",
       "    .dataframe tbody tr th:only-of-type {\n",
       "        vertical-align: middle;\n",
       "    }\n",
       "\n",
       "    .dataframe tbody tr th {\n",
       "        vertical-align: top;\n",
       "    }\n",
       "\n",
       "    .dataframe thead th {\n",
       "        text-align: right;\n",
       "    }\n",
       "</style>\n",
       "<table border=\"1\" class=\"dataframe\">\n",
       "  <thead>\n",
       "    <tr style=\"text-align: right;\">\n",
       "      <th></th>\n",
       "      <th>index</th>\n",
       "      <th>0</th>\n",
       "      <th>1</th>\n",
       "      <th>2</th>\n",
       "      <th>3</th>\n",
       "      <th>4</th>\n",
       "    </tr>\n",
       "  </thead>\n",
       "  <tbody>\n",
       "    <tr>\n",
       "      <th>0</th>\n",
       "      <td>0</td>\n",
       "      <td>0.240505</td>\n",
       "      <td>0.127467</td>\n",
       "      <td>0.21133</td>\n",
       "      <td>0.280019</td>\n",
       "      <td>0.140678</td>\n",
       "    </tr>\n",
       "    <tr>\n",
       "      <th>1</th>\n",
       "      <td>1</td>\n",
       "      <td>0.240505</td>\n",
       "      <td>0.127467</td>\n",
       "      <td>0.21133</td>\n",
       "      <td>0.280019</td>\n",
       "      <td>0.140678</td>\n",
       "    </tr>\n",
       "    <tr>\n",
       "      <th>2</th>\n",
       "      <td>2</td>\n",
       "      <td>0.240505</td>\n",
       "      <td>0.127467</td>\n",
       "      <td>0.21133</td>\n",
       "      <td>0.280019</td>\n",
       "      <td>0.140678</td>\n",
       "    </tr>\n",
       "    <tr>\n",
       "      <th>3</th>\n",
       "      <td>3</td>\n",
       "      <td>0.240505</td>\n",
       "      <td>0.127467</td>\n",
       "      <td>0.21133</td>\n",
       "      <td>0.280019</td>\n",
       "      <td>0.140678</td>\n",
       "    </tr>\n",
       "    <tr>\n",
       "      <th>4</th>\n",
       "      <td>4</td>\n",
       "      <td>0.240505</td>\n",
       "      <td>0.127467</td>\n",
       "      <td>0.21133</td>\n",
       "      <td>0.280019</td>\n",
       "      <td>0.140678</td>\n",
       "    </tr>\n",
       "    <tr>\n",
       "      <th>...</th>\n",
       "      <td>...</td>\n",
       "      <td>...</td>\n",
       "      <td>...</td>\n",
       "      <td>...</td>\n",
       "      <td>...</td>\n",
       "      <td>...</td>\n",
       "    </tr>\n",
       "    <tr>\n",
       "      <th>19612</th>\n",
       "      <td>19612</td>\n",
       "      <td>0.240505</td>\n",
       "      <td>0.127467</td>\n",
       "      <td>0.21133</td>\n",
       "      <td>0.280019</td>\n",
       "      <td>0.140678</td>\n",
       "    </tr>\n",
       "    <tr>\n",
       "      <th>19613</th>\n",
       "      <td>19613</td>\n",
       "      <td>0.240505</td>\n",
       "      <td>0.127467</td>\n",
       "      <td>0.21133</td>\n",
       "      <td>0.280019</td>\n",
       "      <td>0.140678</td>\n",
       "    </tr>\n",
       "    <tr>\n",
       "      <th>19614</th>\n",
       "      <td>19614</td>\n",
       "      <td>0.240505</td>\n",
       "      <td>0.127467</td>\n",
       "      <td>0.21133</td>\n",
       "      <td>0.280019</td>\n",
       "      <td>0.140678</td>\n",
       "    </tr>\n",
       "    <tr>\n",
       "      <th>19615</th>\n",
       "      <td>19615</td>\n",
       "      <td>0.240505</td>\n",
       "      <td>0.127467</td>\n",
       "      <td>0.21133</td>\n",
       "      <td>0.280019</td>\n",
       "      <td>0.140678</td>\n",
       "    </tr>\n",
       "    <tr>\n",
       "      <th>19616</th>\n",
       "      <td>19616</td>\n",
       "      <td>0.240505</td>\n",
       "      <td>0.127467</td>\n",
       "      <td>0.21133</td>\n",
       "      <td>0.280019</td>\n",
       "      <td>0.140678</td>\n",
       "    </tr>\n",
       "  </tbody>\n",
       "</table>\n",
       "<p>19617 rows × 6 columns</p>\n",
       "</div>"
      ],
      "text/plain": [
       "       index         0         1        2         3         4\n",
       "0          0  0.240505  0.127467  0.21133  0.280019  0.140678\n",
       "1          1  0.240505  0.127467  0.21133  0.280019  0.140678\n",
       "2          2  0.240505  0.127467  0.21133  0.280019  0.140678\n",
       "3          3  0.240505  0.127467  0.21133  0.280019  0.140678\n",
       "4          4  0.240505  0.127467  0.21133  0.280019  0.140678\n",
       "...      ...       ...       ...      ...       ...       ...\n",
       "19612  19612  0.240505  0.127467  0.21133  0.280019  0.140678\n",
       "19613  19613  0.240505  0.127467  0.21133  0.280019  0.140678\n",
       "19614  19614  0.240505  0.127467  0.21133  0.280019  0.140678\n",
       "19615  19615  0.240505  0.127467  0.21133  0.280019  0.140678\n",
       "19616  19616  0.240505  0.127467  0.21133  0.280019  0.140678\n",
       "\n",
       "[19617 rows x 6 columns]"
      ]
     },
     "execution_count": 71,
     "metadata": {},
     "output_type": "execute_result"
    }
   ],
   "source": [
    "# submission\n",
    "sample_submission[['0','1','2','3','4']] = pred\n",
    "sample_submission"
   ]
  },
  {
   "cell_type": "code",
   "execution_count": 72,
   "id": "709fb998-cb38-4b58-b64e-5d0f32a511b5",
   "metadata": {},
   "outputs": [],
   "source": [
    "sample_submission.to_csv('submission/submission_lstm.csv', index = False, encoding = 'utf-8')"
   ]
  },
  {
   "cell_type": "markdown",
   "id": "7b6e3320-1370-4c50-818f-0b33b3917011",
   "metadata": {},
   "source": [
    "## 4-3. 양방향 LSTM 모델"
   ]
  },
  {
   "cell_type": "code",
   "execution_count": 73,
   "id": "bc09b32b-00ff-433e-bcbe-50efea626090",
   "metadata": {},
   "outputs": [],
   "source": [
    "model_bilstm = tf.keras.Sequential([\n",
    "    tf.keras.layers.Embedding(vocab_size, embedding_dim, weights=[embedding_matrix], input_length=max_len),\n",
    "    tf.keras.layers.Bidirectional(tf.keras.layers.LSTM(units=128, return_sequences=True)),\n",
    "    tf.keras.layers.Bidirectional(tf.keras.layers.LSTM(units=64, return_sequences=True)),\n",
    "    tf.keras.layers.Bidirectional(tf.keras.layers.LSTM(units=64)),\n",
    "    tf.keras.layers.Dense(5, activation='softmax')\n",
    "])"
   ]
  },
  {
   "cell_type": "code",
   "execution_count": 74,
   "id": "361a013b-43a4-40ee-a2ca-70c87e28022e",
   "metadata": {},
   "outputs": [
    {
     "name": "stdout",
     "output_type": "stream",
     "text": [
      "Model: \"sequential_6\"\n",
      "_________________________________________________________________\n",
      "Layer (type)                 Output Shape              Param #   \n",
      "=================================================================\n",
      "embedding_6 (Embedding)      (None, 160, 100)          4713700   \n",
      "_________________________________________________________________\n",
      "bidirectional (Bidirectional (None, 160, 256)          234496    \n",
      "_________________________________________________________________\n",
      "bidirectional_1 (Bidirection (None, 160, 128)          164352    \n",
      "_________________________________________________________________\n",
      "bidirectional_2 (Bidirection (None, 128)               98816     \n",
      "_________________________________________________________________\n",
      "dense_8 (Dense)              (None, 5)                 645       \n",
      "=================================================================\n",
      "Total params: 5,212,009\n",
      "Trainable params: 5,212,009\n",
      "Non-trainable params: 0\n",
      "_________________________________________________________________\n"
     ]
    }
   ],
   "source": [
    "# Compile & Summary\n",
    "model_bilstm.compile(loss='sparse_categorical_crossentropy',\n",
    "                     optimizer='adam',\n",
    "                     metrics=['accuracy'])\n",
    "\n",
    "model_bilstm.summary()"
   ]
  },
  {
   "cell_type": "code",
   "execution_count": 75,
   "id": "e1485e25-de3a-42fd-91b5-194096e439fb",
   "metadata": {},
   "outputs": [
    {
     "name": "stdout",
     "output_type": "stream",
     "text": [
      "Epoch 1/10\n",
      "343/343 [==============================] - 55s 135ms/step - loss: 1.4338 - accuracy: 0.3617 - val_loss: 1.0522 - val_accuracy: 0.5900\n",
      "Epoch 2/10\n",
      "343/343 [==============================] - 49s 143ms/step - loss: 0.9794 - accuracy: 0.6151 - val_loss: 0.9390 - val_accuracy: 0.6310\n",
      "Epoch 3/10\n",
      "343/343 [==============================] - 48s 141ms/step - loss: 0.8472 - accuracy: 0.6724 - val_loss: 0.8675 - val_accuracy: 0.6680\n",
      "Epoch 4/10\n",
      "343/343 [==============================] - 48s 141ms/step - loss: 0.7873 - accuracy: 0.6962 - val_loss: 0.8643 - val_accuracy: 0.6675\n",
      "Epoch 5/10\n",
      "343/343 [==============================] - 49s 142ms/step - loss: 0.7575 - accuracy: 0.7053 - val_loss: 0.9133 - val_accuracy: 0.6472\n",
      "Epoch 6/10\n",
      "343/343 [==============================] - 49s 142ms/step - loss: 0.7225 - accuracy: 0.7226 - val_loss: 0.8635 - val_accuracy: 0.6698\n",
      "Epoch 7/10\n",
      "343/343 [==============================] - 49s 143ms/step - loss: 0.7097 - accuracy: 0.7260 - val_loss: 0.8687 - val_accuracy: 0.6711\n",
      "Epoch 8/10\n",
      "343/343 [==============================] - 49s 142ms/step - loss: 0.6823 - accuracy: 0.7397 - val_loss: 0.9172 - val_accuracy: 0.6606\n",
      "Epoch 9/10\n",
      "343/343 [==============================] - 50s 145ms/step - loss: 0.6573 - accuracy: 0.7471 - val_loss: 0.8901 - val_accuracy: 0.6703\n",
      "Epoch 10/10\n",
      "343/343 [==============================] - 50s 145ms/step - loss: 0.6318 - accuracy: 0.7586 - val_loss: 0.9088 - val_accuracy: 0.6670\n"
     ]
    }
   ],
   "source": [
    "# Fit\n",
    "history = model_bilstm.fit(train_padded, y_train,\n",
    "                    epochs=10, validation_split=0.2,\n",
    "                    batch_size=128)"
   ]
  },
  {
   "cell_type": "code",
   "execution_count": 76,
   "id": "ac2e99e4-aa9e-4ff8-b9f8-166d49a049bc",
   "metadata": {},
   "outputs": [
    {
     "name": "stdout",
     "output_type": "stream",
     "text": [
      "1715/1715 [==============================] - 37s 21ms/step - loss: 0.6577 - accuracy: 0.7539\n",
      "Accuracy: 75.385851\n",
      "loss: 0.657722\n"
     ]
    }
   ],
   "source": [
    "loss, accuracy = model_bilstm.evaluate(train_padded, y_train)\n",
    "\n",
    "print('Accuracy: %f' % (accuracy * 100))\n",
    "print('loss: %f' % (loss))"
   ]
  },
  {
   "cell_type": "code",
   "execution_count": 77,
   "id": "e353637e-c2ec-4796-a527-8bce14c35af3",
   "metadata": {},
   "outputs": [
    {
     "data": {
      "image/png": "[encoded data removed]",
      "text/plain": [
       "<Figure size 864x288 with 2 Axes>"
      ]
     },
     "metadata": {
      "needs_background": "light"
     },
     "output_type": "display_data"
    }
   ],
   "source": [
    "# ■■■■■■■■■■■■■■■■ Result visualization ■■■■■■■■■■■■■■■■\n",
    "plt.figure(figsize=(12, 4))\n",
    "plt.title('model', fontsize=16)\n",
    "\n",
    "plt.subplot(1, 2, 1)\n",
    "plt.title('loss of Bidirectional LSTM', fontsize=16)\n",
    "plt.plot(history.history['loss'], 'b-', label='loss')\n",
    "plt.plot(history.history['val_loss'], 'r--', label='val_loss')\n",
    "plt.xlabel('Epoch')\n",
    "plt.legend()\n",
    "\n",
    "plt.subplot(1, 2, 2)\n",
    "plt.title('accuracy of Bidirectional LSTM', fontsize=16)\n",
    "plt.plot(history.history['accuracy'], 'g-', label='accuracy')\n",
    "plt.plot(history.history['val_accuracy'], 'o--', label='val_accuracy')\n",
    "plt.xlabel('Epoch')\n",
    "plt.legend()\n",
    "\n",
    "plt.show()"
   ]
  },
  {
   "cell_type": "code",
   "execution_count": 78,
   "id": "484c7c07-391a-48b6-81f8-34511a3aba49",
   "metadata": {},
   "outputs": [
    {
     "name": "stderr",
     "output_type": "stream",
     "text": [
      "C:\\Users\\GBJ\\anaconda3\\envs\\tf240\\lib\\site-packages\\tensorflow\\python\\keras\\engine\\sequential.py:425: UserWarning: `model.predict_proba()` is deprecated and will be removed after 2021-01-01. Please use `model.predict()` instead.\n",
      "  warnings.warn('`model.predict_proba()` is deprecated and '\n"
     ]
    },
    {
     "data": {
      "text/plain": [
       "array([[2.0266592e-03, 9.9591172e-01, 5.4164982e-04, 1.3391390e-03,\n",
       "        1.8079228e-04],\n",
       "       [1.3912708e-01, 1.2507026e-01, 2.2549045e-03, 1.6028692e-03,\n",
       "        7.3194486e-01],\n",
       "       [9.8244321e-01, 1.2851013e-03, 2.2057905e-03, 1.3550476e-03,\n",
       "        1.2710922e-02],\n",
       "       ...,\n",
       "       [8.9483970e-04, 9.9884254e-01, 7.4460004e-05, 8.7449465e-05,\n",
       "        1.0073505e-04],\n",
       "       [6.0545868e-04, 9.9889451e-01, 1.1181838e-04, 2.8669683e-04,\n",
       "        1.0141062e-04],\n",
       "       [6.2436229e-01, 2.6652604e-02, 3.0308515e-01, 2.8876577e-02,\n",
       "        1.7023373e-02]], dtype=float32)"
      ]
     },
     "execution_count": 78,
     "metadata": {},
     "output_type": "execute_result"
    }
   ],
   "source": [
    "# predict values\n",
    "pred = model_bilstm.predict_proba(test_padded)\n",
    "\n",
    "pred"
   ]
  },
  {
   "cell_type": "code",
   "execution_count": 79,
   "id": "5c7ee753-d070-4f0c-97a1-f3ed6c221043",
   "metadata": {},
   "outputs": [
    {
     "data": {
      "text/html": [
       "<div>\n",
       "<style scoped>\n",
       "    .dataframe tbody tr th:only-of-type {\n",
       "        vertical-align: middle;\n",
       "    }\n",
       "\n",
       "    .dataframe tbody tr th {\n",
       "        vertical-align: top;\n",
       "    }\n",
       "\n",
       "    .dataframe thead th {\n",
       "        text-align: right;\n",
       "    }\n",
       "</style>\n",
       "<table border=\"1\" class=\"dataframe\">\n",
       "  <thead>\n",
       "    <tr style=\"text-align: right;\">\n",
       "      <th></th>\n",
       "      <th>index</th>\n",
       "      <th>0</th>\n",
       "      <th>1</th>\n",
       "      <th>2</th>\n",
       "      <th>3</th>\n",
       "      <th>4</th>\n",
       "    </tr>\n",
       "  </thead>\n",
       "  <tbody>\n",
       "    <tr>\n",
       "      <th>0</th>\n",
       "      <td>0</td>\n",
       "      <td>0.002027</td>\n",
       "      <td>0.995912</td>\n",
       "      <td>0.000542</td>\n",
       "      <td>0.001339</td>\n",
       "      <td>0.000181</td>\n",
       "    </tr>\n",
       "    <tr>\n",
       "      <th>1</th>\n",
       "      <td>1</td>\n",
       "      <td>0.139127</td>\n",
       "      <td>0.125070</td>\n",
       "      <td>0.002255</td>\n",
       "      <td>0.001603</td>\n",
       "      <td>0.731945</td>\n",
       "    </tr>\n",
       "    <tr>\n",
       "      <th>2</th>\n",
       "      <td>2</td>\n",
       "      <td>0.982443</td>\n",
       "      <td>0.001285</td>\n",
       "      <td>0.002206</td>\n",
       "      <td>0.001355</td>\n",
       "      <td>0.012711</td>\n",
       "    </tr>\n",
       "    <tr>\n",
       "      <th>3</th>\n",
       "      <td>3</td>\n",
       "      <td>0.021249</td>\n",
       "      <td>0.030470</td>\n",
       "      <td>0.940024</td>\n",
       "      <td>0.000700</td>\n",
       "      <td>0.007558</td>\n",
       "    </tr>\n",
       "    <tr>\n",
       "      <th>4</th>\n",
       "      <td>4</td>\n",
       "      <td>0.082036</td>\n",
       "      <td>0.406952</td>\n",
       "      <td>0.006271</td>\n",
       "      <td>0.017666</td>\n",
       "      <td>0.487075</td>\n",
       "    </tr>\n",
       "    <tr>\n",
       "      <th>...</th>\n",
       "      <td>...</td>\n",
       "      <td>...</td>\n",
       "      <td>...</td>\n",
       "      <td>...</td>\n",
       "      <td>...</td>\n",
       "      <td>...</td>\n",
       "    </tr>\n",
       "    <tr>\n",
       "      <th>19612</th>\n",
       "      <td>19612</td>\n",
       "      <td>0.000854</td>\n",
       "      <td>0.998745</td>\n",
       "      <td>0.000112</td>\n",
       "      <td>0.000156</td>\n",
       "      <td>0.000134</td>\n",
       "    </tr>\n",
       "    <tr>\n",
       "      <th>19613</th>\n",
       "      <td>19613</td>\n",
       "      <td>0.355716</td>\n",
       "      <td>0.001547</td>\n",
       "      <td>0.009448</td>\n",
       "      <td>0.002386</td>\n",
       "      <td>0.630903</td>\n",
       "    </tr>\n",
       "    <tr>\n",
       "      <th>19614</th>\n",
       "      <td>19614</td>\n",
       "      <td>0.000895</td>\n",
       "      <td>0.998843</td>\n",
       "      <td>0.000074</td>\n",
       "      <td>0.000087</td>\n",
       "      <td>0.000101</td>\n",
       "    </tr>\n",
       "    <tr>\n",
       "      <th>19615</th>\n",
       "      <td>19615</td>\n",
       "      <td>0.000605</td>\n",
       "      <td>0.998895</td>\n",
       "      <td>0.000112</td>\n",
       "      <td>0.000287</td>\n",
       "      <td>0.000101</td>\n",
       "    </tr>\n",
       "    <tr>\n",
       "      <th>19616</th>\n",
       "      <td>19616</td>\n",
       "      <td>0.624362</td>\n",
       "      <td>0.026653</td>\n",
       "      <td>0.303085</td>\n",
       "      <td>0.028877</td>\n",
       "      <td>0.017023</td>\n",
       "    </tr>\n",
       "  </tbody>\n",
       "</table>\n",
       "<p>19617 rows × 6 columns</p>\n",
       "</div>"
      ],
      "text/plain": [
       "       index         0         1         2         3         4\n",
       "0          0  0.002027  0.995912  0.000542  0.001339  0.000181\n",
       "1          1  0.139127  0.125070  0.002255  0.001603  0.731945\n",
       "2          2  0.982443  0.001285  0.002206  0.001355  0.012711\n",
       "3          3  0.021249  0.030470  0.940024  0.000700  0.007558\n",
       "4          4  0.082036  0.406952  0.006271  0.017666  0.487075\n",
       "...      ...       ...       ...       ...       ...       ...\n",
       "19612  19612  0.000854  0.998745  0.000112  0.000156  0.000134\n",
       "19613  19613  0.355716  0.001547  0.009448  0.002386  0.630903\n",
       "19614  19614  0.000895  0.998843  0.000074  0.000087  0.000101\n",
       "19615  19615  0.000605  0.998895  0.000112  0.000287  0.000101\n",
       "19616  19616  0.624362  0.026653  0.303085  0.028877  0.017023\n",
       "\n",
       "[19617 rows x 6 columns]"
      ]
     },
     "execution_count": 79,
     "metadata": {},
     "output_type": "execute_result"
    }
   ],
   "source": [
    "# submission\n",
    "sample_submission[['0','1','2','3','4']] = pred\n",
    "sample_submission"
   ]
  },
  {
   "cell_type": "code",
   "execution_count": 80,
   "id": "bca21036-79c6-40a4-987e-6ab2fc3580e4",
   "metadata": {},
   "outputs": [],
   "source": [
    "sample_submission.to_csv('submission/submission_bilstm.csv', index = False, encoding = 'utf-8')"
   ]
  },
  {
   "cell_type": "markdown",
   "id": "2e288daa-5274-40c5-8670-1e21910ad584",
   "metadata": {},
   "source": [
    "## 4-4. CNN 모델"
   ]
  },
  {
   "cell_type": "code",
   "execution_count": 100,
   "id": "5703bb37-bd17-4422-9e17-dc6ccf0fd99f",
   "metadata": {},
   "outputs": [],
   "source": [
    "model_cnn = tf.keras.Sequential([\n",
    "    tf.keras.layers.Embedding(vocab_size, embedding_dim, weights=[embedding_matrix], input_length=max_len),\n",
    "    tf.keras.layers.Dropout(rate=0.4),\n",
    "    tf.keras.layers.Conv1D(filters=256, kernel_size=3, padding='same', activation='relu'),\n",
    "    tf.keras.layers.GlobalMaxPooling1D(),\n",
    "    tf.keras.layers.Dropout(rate=0.5),\n",
    "    tf.keras.layers.Dense(units=128, activation='relu'),\n",
    "    tf.keras.layers.Dropout(rate=0.5),\n",
    "    tf.keras.layers.Dense(5, activation='softmax')\n",
    "])"
   ]
  },
  {
   "cell_type": "code",
   "execution_count": 101,
   "id": "e6a15f8a-666c-48f1-8e15-6916f36ad635",
   "metadata": {},
   "outputs": [
    {
     "name": "stdout",
     "output_type": "stream",
     "text": [
      "Model: \"sequential_23\"\n",
      "_________________________________________________________________\n",
      "Layer (type)                 Output Shape              Param #   \n",
      "=================================================================\n",
      "embedding_23 (Embedding)     (None, 160, 100)          4713700   \n",
      "_________________________________________________________________\n",
      "dropout_58 (Dropout)         (None, 160, 100)          0         \n",
      "_________________________________________________________________\n",
      "conv1d_27 (Conv1D)           (None, 160, 256)          77056     \n",
      "_________________________________________________________________\n",
      "global_max_pooling1d_27 (Glo (None, 256)               0         \n",
      "_________________________________________________________________\n",
      "dropout_59 (Dropout)         (None, 256)               0         \n",
      "_________________________________________________________________\n",
      "dense_41 (Dense)             (None, 128)               32896     \n",
      "_________________________________________________________________\n",
      "dropout_60 (Dropout)         (None, 128)               0         \n",
      "_________________________________________________________________\n",
      "dense_42 (Dense)             (None, 5)                 645       \n",
      "=================================================================\n",
      "Total params: 4,824,297\n",
      "Trainable params: 4,824,297\n",
      "Non-trainable params: 0\n",
      "_________________________________________________________________\n"
     ]
    }
   ],
   "source": [
    "# Compile & Summary\n",
    "model_cnn.compile(loss='sparse_categorical_crossentropy',\n",
    "              optimizer='adam',\n",
    "              metrics=['accuracy'])\n",
    "\n",
    "model_cnn.summary()"
   ]
  },
  {
   "cell_type": "code",
   "execution_count": 103,
   "id": "2499699e-861b-4926-bb86-d302b6443e1b",
   "metadata": {},
   "outputs": [
    {
     "name": "stdout",
     "output_type": "stream",
     "text": [
      "Epoch 1/10\n",
      "343/343 [==============================] - 11s 33ms/step - loss: 1.5002 - accuracy: 0.3361 - val_loss: 1.3547 - val_accuracy: 0.4268\n",
      "Epoch 2/10\n",
      "343/343 [==============================] - 11s 32ms/step - loss: 1.3100 - accuracy: 0.4532 - val_loss: 1.1980 - val_accuracy: 0.5199\n",
      "Epoch 3/10\n",
      "343/343 [==============================] - 11s 31ms/step - loss: 1.1954 - accuracy: 0.5101 - val_loss: 1.1150 - val_accuracy: 0.5636\n",
      "Epoch 4/10\n",
      "343/343 [==============================] - 11s 31ms/step - loss: 1.1244 - accuracy: 0.5460 - val_loss: 1.0623 - val_accuracy: 0.5832\n",
      "Epoch 5/10\n",
      "343/343 [==============================] - 11s 31ms/step - loss: 1.0781 - accuracy: 0.5725 - val_loss: 1.0250 - val_accuracy: 0.6021\n",
      "Epoch 6/10\n",
      "343/343 [==============================] - 11s 33ms/step - loss: 1.0402 - accuracy: 0.5896 - val_loss: 1.0032 - val_accuracy: 0.6117\n",
      "Epoch 7/10\n",
      "343/343 [==============================] - 11s 32ms/step - loss: 1.0133 - accuracy: 0.6001 - val_loss: 0.9866 - val_accuracy: 0.6194\n",
      "Epoch 8/10\n",
      "343/343 [==============================] - 11s 33ms/step - loss: 0.9892 - accuracy: 0.6118 - val_loss: 0.9696 - val_accuracy: 0.6271\n",
      "Epoch 9/10\n",
      "343/343 [==============================] - 11s 33ms/step - loss: 0.9734 - accuracy: 0.6203 - val_loss: 0.9614 - val_accuracy: 0.6311\n",
      "Epoch 10/10\n",
      "343/343 [==============================] - 11s 33ms/step - loss: 0.9530 - accuracy: 0.6283 - val_loss: 0.9462 - val_accuracy: 0.6378\n"
     ]
    }
   ],
   "source": [
    "# Fit\n",
    "history = model_cnn.fit(train_padded, y_train,\n",
    "                        epochs=10, validation_split=0.2,\n",
    "                        batch_size=128)"
   ]
  },
  {
   "cell_type": "code",
   "execution_count": 104,
   "id": "b63052e8-fb48-47eb-b44b-af4dab160ffe",
   "metadata": {},
   "outputs": [
    {
     "name": "stdout",
     "output_type": "stream",
     "text": [
      "1715/1715 [==============================] - 6s 3ms/step - loss: 0.8746 - accuracy: 0.6697\n",
      "Accuracy: 66.974616\n",
      "loss: 0.874578\n"
     ]
    }
   ],
   "source": [
    "loss, accuracy = model_cnn.evaluate(train_padded, y_train)\n",
    "\n",
    "print('Accuracy: %f' % (accuracy * 100))\n",
    "print('loss: %f' % (loss))"
   ]
  },
  {
   "cell_type": "code",
   "execution_count": 105,
   "id": "1d97e25a-3783-4f71-834d-bd19432fb3bd",
   "metadata": {},
   "outputs": [
    {
     "data": {
      "image/png": "[encoded data removed]",
      "text/plain": [
       "<Figure size 864x288 with 2 Axes>"
      ]
     },
     "metadata": {
      "needs_background": "light"
     },
     "output_type": "display_data"
    }
   ],
   "source": [
    "# ■■■■■■■■■■■■■■■■ Result visualization ■■■■■■■■■■■■■■■■\n",
    "plt.figure(figsize=(12, 4))\n",
    "plt.title('model', fontsize=16)\n",
    "\n",
    "plt.subplot(1, 2, 1)\n",
    "plt.title('loss of CNN', fontsize=16)\n",
    "plt.plot(history.history['loss'], 'b-', label='loss')\n",
    "plt.plot(history.history['val_loss'], 'r--', label='val_loss')\n",
    "plt.xlabel('Epoch')\n",
    "plt.legend()\n",
    "\n",
    "plt.subplot(1, 2, 2)\n",
    "plt.title('accuracy of CNN', fontsize=16)\n",
    "plt.plot(history.history['accuracy'], 'g-', label='accuracy')\n",
    "plt.plot(history.history['val_accuracy'], 'o--', label='val_accuracy')\n",
    "plt.xlabel('Epoch')\n",
    "plt.legend()\n",
    "\n",
    "plt.show()"
   ]
  },
  {
   "cell_type": "code",
   "execution_count": 106,
   "id": "3a2bdb61-1032-499e-a55f-e5ab678d63aa",
   "metadata": {},
   "outputs": [
    {
     "name": "stderr",
     "output_type": "stream",
     "text": [
      "C:\\Users\\GBJ\\anaconda3\\envs\\tf240\\lib\\site-packages\\tensorflow\\python\\keras\\engine\\sequential.py:425: UserWarning: `model.predict_proba()` is deprecated and will be removed after 2021-01-01. Please use `model.predict()` instead.\n",
      "  warnings.warn('`model.predict_proba()` is deprecated and '\n"
     ]
    },
    {
     "data": {
      "text/plain": [
       "array([[1.17161304e-01, 4.57536250e-01, 1.17474884e-01, 2.94251680e-01,\n",
       "        1.35758771e-02],\n",
       "       [2.84017205e-01, 3.00845325e-01, 6.21507019e-02, 4.19248119e-02,\n",
       "        3.11062008e-01],\n",
       "       [6.79204762e-01, 9.93819814e-03, 2.55447309e-02, 8.83708429e-03,\n",
       "        2.76475191e-01],\n",
       "       ...,\n",
       "       [1.45669444e-03, 9.98533130e-01, 2.76809374e-07, 9.43790837e-06,\n",
       "        3.73423489e-07],\n",
       "       [1.19954981e-01, 7.04325378e-01, 8.06543827e-02, 6.61901906e-02,\n",
       "        2.88750492e-02],\n",
       "       [3.05116147e-01, 2.83107106e-02, 2.78219938e-01, 2.15039253e-01,\n",
       "        1.73314005e-01]], dtype=float32)"
      ]
     },
     "execution_count": 106,
     "metadata": {},
     "output_type": "execute_result"
    }
   ],
   "source": [
    "# predict values\n",
    "pred = model_cnn.predict_proba(test_padded)\n",
    "\n",
    "pred"
   ]
  },
  {
   "cell_type": "code",
   "execution_count": 107,
   "id": "cfe0034a-dfa5-40c8-bc25-29d993dfe501",
   "metadata": {},
   "outputs": [
    {
     "data": {
      "text/html": [
       "<div>\n",
       "<style scoped>\n",
       "    .dataframe tbody tr th:only-of-type {\n",
       "        vertical-align: middle;\n",
       "    }\n",
       "\n",
       "    .dataframe tbody tr th {\n",
       "        vertical-align: top;\n",
       "    }\n",
       "\n",
       "    .dataframe thead th {\n",
       "        text-align: right;\n",
       "    }\n",
       "</style>\n",
       "<table border=\"1\" class=\"dataframe\">\n",
       "  <thead>\n",
       "    <tr style=\"text-align: right;\">\n",
       "      <th></th>\n",
       "      <th>index</th>\n",
       "      <th>0</th>\n",
       "      <th>1</th>\n",
       "      <th>2</th>\n",
       "      <th>3</th>\n",
       "      <th>4</th>\n",
       "    </tr>\n",
       "  </thead>\n",
       "  <tbody>\n",
       "    <tr>\n",
       "      <th>0</th>\n",
       "      <td>0</td>\n",
       "      <td>0.117161</td>\n",
       "      <td>0.457536</td>\n",
       "      <td>1.174749e-01</td>\n",
       "      <td>0.294252</td>\n",
       "      <td>1.357588e-02</td>\n",
       "    </tr>\n",
       "    <tr>\n",
       "      <th>1</th>\n",
       "      <td>1</td>\n",
       "      <td>0.284017</td>\n",
       "      <td>0.300845</td>\n",
       "      <td>6.215070e-02</td>\n",
       "      <td>0.041925</td>\n",
       "      <td>3.110620e-01</td>\n",
       "    </tr>\n",
       "    <tr>\n",
       "      <th>2</th>\n",
       "      <td>2</td>\n",
       "      <td>0.679205</td>\n",
       "      <td>0.009938</td>\n",
       "      <td>2.554473e-02</td>\n",
       "      <td>0.008837</td>\n",
       "      <td>2.764752e-01</td>\n",
       "    </tr>\n",
       "    <tr>\n",
       "      <th>3</th>\n",
       "      <td>3</td>\n",
       "      <td>0.098128</td>\n",
       "      <td>0.005909</td>\n",
       "      <td>3.578109e-01</td>\n",
       "      <td>0.015522</td>\n",
       "      <td>5.226294e-01</td>\n",
       "    </tr>\n",
       "    <tr>\n",
       "      <th>4</th>\n",
       "      <td>4</td>\n",
       "      <td>0.210051</td>\n",
       "      <td>0.210547</td>\n",
       "      <td>2.573083e-01</td>\n",
       "      <td>0.243686</td>\n",
       "      <td>7.840759e-02</td>\n",
       "    </tr>\n",
       "    <tr>\n",
       "      <th>...</th>\n",
       "      <td>...</td>\n",
       "      <td>...</td>\n",
       "      <td>...</td>\n",
       "      <td>...</td>\n",
       "      <td>...</td>\n",
       "      <td>...</td>\n",
       "    </tr>\n",
       "    <tr>\n",
       "      <th>19612</th>\n",
       "      <td>19612</td>\n",
       "      <td>0.010552</td>\n",
       "      <td>0.987607</td>\n",
       "      <td>7.897153e-05</td>\n",
       "      <td>0.001700</td>\n",
       "      <td>6.222130e-05</td>\n",
       "    </tr>\n",
       "    <tr>\n",
       "      <th>19613</th>\n",
       "      <td>19613</td>\n",
       "      <td>0.275312</td>\n",
       "      <td>0.031842</td>\n",
       "      <td>2.626926e-01</td>\n",
       "      <td>0.002801</td>\n",
       "      <td>4.273527e-01</td>\n",
       "    </tr>\n",
       "    <tr>\n",
       "      <th>19614</th>\n",
       "      <td>19614</td>\n",
       "      <td>0.001457</td>\n",
       "      <td>0.998533</td>\n",
       "      <td>2.768094e-07</td>\n",
       "      <td>0.000009</td>\n",
       "      <td>3.734235e-07</td>\n",
       "    </tr>\n",
       "    <tr>\n",
       "      <th>19615</th>\n",
       "      <td>19615</td>\n",
       "      <td>0.119955</td>\n",
       "      <td>0.704325</td>\n",
       "      <td>8.065438e-02</td>\n",
       "      <td>0.066190</td>\n",
       "      <td>2.887505e-02</td>\n",
       "    </tr>\n",
       "    <tr>\n",
       "      <th>19616</th>\n",
       "      <td>19616</td>\n",
       "      <td>0.305116</td>\n",
       "      <td>0.028311</td>\n",
       "      <td>2.782199e-01</td>\n",
       "      <td>0.215039</td>\n",
       "      <td>1.733140e-01</td>\n",
       "    </tr>\n",
       "  </tbody>\n",
       "</table>\n",
       "<p>19617 rows × 6 columns</p>\n",
       "</div>"
      ],
      "text/plain": [
       "       index         0         1             2         3             4\n",
       "0          0  0.117161  0.457536  1.174749e-01  0.294252  1.357588e-02\n",
       "1          1  0.284017  0.300845  6.215070e-02  0.041925  3.110620e-01\n",
       "2          2  0.679205  0.009938  2.554473e-02  0.008837  2.764752e-01\n",
       "3          3  0.098128  0.005909  3.578109e-01  0.015522  5.226294e-01\n",
       "4          4  0.210051  0.210547  2.573083e-01  0.243686  7.840759e-02\n",
       "...      ...       ...       ...           ...       ...           ...\n",
       "19612  19612  0.010552  0.987607  7.897153e-05  0.001700  6.222130e-05\n",
       "19613  19613  0.275312  0.031842  2.626926e-01  0.002801  4.273527e-01\n",
       "19614  19614  0.001457  0.998533  2.768094e-07  0.000009  3.734235e-07\n",
       "19615  19615  0.119955  0.704325  8.065438e-02  0.066190  2.887505e-02\n",
       "19616  19616  0.305116  0.028311  2.782199e-01  0.215039  1.733140e-01\n",
       "\n",
       "[19617 rows x 6 columns]"
      ]
     },
     "execution_count": 107,
     "metadata": {},
     "output_type": "execute_result"
    }
   ],
   "source": [
    "# submission\n",
    "sample_submission[['0','1','2','3','4']] = pred\n",
    "sample_submission"
   ]
  },
  {
   "cell_type": "code",
   "execution_count": 108,
   "id": "448bcc14-25f9-4dac-b09b-7da11427af52",
   "metadata": {},
   "outputs": [],
   "source": [
    "sample_submission.to_csv('submission/submission_cnn.csv', index = False, encoding = 'utf-8')"
   ]
  },
  {
   "cell_type": "markdown",
   "id": "e0ee27d3-9f8d-4567-925d-bdd45cd4ab7d",
   "metadata": {},
   "source": [
    "# 참고\n",
    "딥 러닝을 이용한 자연어 처리 입문 https://wikidocs.net/book/2155\n",
    "<br>\n",
    "Codetorial https://codetorial.net/tensorflow/index.html\n",
    "<br>\n",
    "Keras Documentation https://keras.io/"
   ]
  },
  {
   "cell_type": "markdown",
   "id": "6af177c5-a869-46aa-b147-46d15e5ee8ce",
   "metadata": {},
   "source": [
    "# ※ 밑에는 안씁니다. ※"
   ]
  },
  {
   "cell_type": "markdown",
   "id": "bb022002-14d2-414c-9cd8-1e44a0cf8049",
   "metadata": {},
   "source": [
    "## 테스트 CNN"
   ]
  },
  {
   "cell_type": "code",
   "execution_count": null,
   "id": "dbe0e5f4-4205-4547-9559-62cf20dd4ecc",
   "metadata": {},
   "outputs": [],
   "source": [
    "model = tf.keras.Sequential([\n",
    "    tf.keras.layers.Embedding(vocab_size, embedding_dim, weights=[embedding_matrix], input_length=max_len),\n",
    "    tf.keras.layers.Dropout(rate=0.5),\n",
    "    tf.keras.layers.Conv1D(filters=100, kernel_size=3, padding='valid', activation='relu'),\n",
    "    tf.keras.layers.GlobalMaxPooling1D(),\n",
    "    tf.keras.layers.Dropout(rate=0.5),\n",
    "    tf.keras.layers.Conv1D(filters=64, kernel_size=3, padding='valid', activation='relu'),\n",
    "    tf.keras.layers.GlobalMaxPooling1D(),\n",
    "    tf.keras.layers.Dropout(rate=0.5),\n",
    "    tf.keras.layers.Dense(units=128, activation='relu'),\n",
    "    tf.keras.layers.Dropout(rate=0.5),\n",
    "    tf.keras.layers.Dense(5, activation='softmax')\n",
    "])"
   ]
  },
  {
   "cell_type": "code",
   "execution_count": null,
   "id": "7a33c54b-0c41-492c-bc2e-f10e94d67ed9",
   "metadata": {},
   "outputs": [],
   "source": [
    "# Compile & Summary\n",
    "model.compile(loss='sparse_categorical_crossentropy',\n",
    "              optimizer='adam',\n",
    "              metrics=['accuracy'])\n",
    "\n",
    "model.summary()"
   ]
  },
  {
   "cell_type": "code",
   "execution_count": null,
   "id": "7572898b-1bda-4d12-950a-15735cf6f49a",
   "metadata": {},
   "outputs": [],
   "source": [
    "# Fit\n",
    "history = model.fit(train_padded, y_train,\n",
    "                    epochs=30, validation_split=0.2,\n",
    "                    batch_size=128,\n",
    "                    callbacks=[tf.keras.callbacks.EarlyStopping(patience=10, monitor='val_loss')])"
   ]
  }
 ],
 "metadata": {
  "kernelspec": {
   "display_name": "tf240",
   "language": "python",
   "name": "tf240"
  },
  "language_info": {
   "codemirror_mode": {
    "name": "ipython",
    "version": 3
   },
   "file_extension": ".py",
   "mimetype": "text/x-python",
   "name": "python",
   "nbconvert_exporter": "python",
   "pygments_lexer": "ipython3",
   "version": "3.8.8"
  }
 },
 "nbformat": 4,
 "nbformat_minor": 5
}
